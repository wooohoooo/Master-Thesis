{
 "cells": [
  {
   "cell_type": "markdown",
   "metadata": {},
   "source": [
    "# To Do\n",
    "\n",
    "## Plan:\n",
    "### Compare different ways of generating unertainty in Regression with Deep learning\n",
    "### Use CoBEAu and NLPD as measures\n",
    "### (build a Thompson Sampler out of those things and test on the Yahoo Dataset)\n",
    "\n",
    "\n",
    "## Research\n",
    "### Find out how to Mathematically Represent regression\n",
    "### Find other Datasets\n",
    "### Datasets Thompson Sampling (Multiple Bandit Yahoo?)\n",
    "### Boston Housing Market\n",
    "### Time Series Analysis + Dataset + Uncertainty Estimates\n",
    "\n",
    "## Coding\n",
    "### Datasets: Data Preprocessing :/ Like mostly take care of the different variables in Boston (MOST important: Dummy Variables)\n",
    "### Real Bayesian Network (this will take forever)\n",
    "### helper framework that will allow running experiments 100 times\n",
    "\n",
    "## Writing\n",
    "\n",
    "### Introduction\n",
    "#### What is Deep Learning\n",
    "#### What is Predictive Uncertainty\n",
    "#### Why do we want Predictive Uncertainty\n",
    "##### Decision Making\n",
    "##### Connected to that: Reinforcement Learning\n",
    "#### Why does Deep Learning not have Preditive Uncertainty out of the Box?\n",
    "#### What is the principle behind being able to get PU estimates?\n",
    "#### What are traits of 'Good' PU vs 'bad' PU (Set up CoBEAU and NLPD)\n",
    "\n",
    "### Methods\n",
    "#### Measures\n",
    "##### NLPD\n",
    "##### CoBEAU\n",
    "\n",
    "#### Datasets\n",
    "##### linear Toy Dataset\n",
    "##### Nonlinear Toy Dataset\n",
    "##### Boston Housing Market\n",
    "\n",
    "### Results\n",
    "### Discussion\n",
    "### Appendix"
   ]
  },
  {
   "cell_type": "code",
   "execution_count": null,
   "metadata": {},
   "outputs": [],
   "source": []
  }
 ],
 "metadata": {
  "kernelspec": {
   "display_name": "Python 3",
   "language": "python",
   "name": "python3"
  },
  "language_info": {
   "codemirror_mode": {
    "name": "ipython",
    "version": 3
   },
   "file_extension": ".py",
   "mimetype": "text/x-python",
   "name": "python",
   "nbconvert_exporter": "python",
   "pygments_lexer": "ipython3",
   "version": "3.5.4"
  }
 },
 "nbformat": 4,
 "nbformat_minor": 2
}
