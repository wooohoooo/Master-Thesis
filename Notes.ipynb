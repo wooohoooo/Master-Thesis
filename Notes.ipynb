{
 "cells": [
  {
   "cell_type": "markdown",
   "metadata": {},
   "source": [
    "# Thesis\n",
    "## Introduction\n",
    "### comtribtions\n",
    "The contribution of this thesis aims to be twofold:\n",
    "\n",
    "On one hand, assessing different models that allow for the generation of predictive uncertainty should give pratictioners a handy way of deciding which approach is best suited to their current needs.\n",
    "\n",
    "On the other hand, the evaluation of statistics for uncertainty assessment (who assesses the assessors) might be even more interesting of a topic than the first one."
   ]
  },
  {
   "cell_type": "markdown",
   "metadata": {},
   "source": [
    "# Surrounding Material\n",
    "\n",
    "## Thompson sampling with the ensembles\n",
    "\n",
    "## Counterfactual Reasoning with (any kind of model but in this case) Deep Ensembles\n",
    "\n",
    "'was it the new tax break that caused our sales to go up' (Pearl, 201X)\n",
    "\n",
    "Humans do this by using their internal model to conceive of a world in which the tax break wasn't given.\n",
    "\n",
    "This is not different than computing p(y,x') and then comparing the two possible futures (of which one is the world we live in, or a different kind of treatment, or...). This is also essentially what Thompson Sampling does - it chooses from the future that utilises utility * probability."
   ]
  },
  {
   "cell_type": "markdown",
   "metadata": {},
   "source": []
  }
 ],
 "metadata": {
  "kernelspec": {
   "display_name": "Python 3",
   "language": "python",
   "name": "python3"
  },
  "language_info": {
   "codemirror_mode": {
    "name": "ipython",
    "version": 3
   },
   "file_extension": ".py",
   "mimetype": "text/x-python",
   "name": "python",
   "nbconvert_exporter": "python",
   "pygments_lexer": "ipython3",
   "version": "3.5.4"
  }
 },
 "nbformat": 4,
 "nbformat_minor": 2
}
