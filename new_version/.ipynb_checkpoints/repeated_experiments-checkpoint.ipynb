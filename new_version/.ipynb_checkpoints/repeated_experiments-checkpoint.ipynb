{
 "cells": [
  {
   "cell_type": "code",
   "execution_count": 1,
   "metadata": {},
   "outputs": [],
   "source": [
    "import importlib\n",
    "\n",
    "import evaluation\n",
    "importlib.reload(evaluation)\n",
    "\n",
    "import dataset_creation \n",
    "importlib.reload(dataset_creation)\n",
    "\n",
    "import ensembles\n",
    "importlib.reload(ensembles)\n",
    "\n",
    "import networks\n",
    "importlib.reload(networks)\n",
    "\n",
    "\n",
    "%matplotlib inline\n",
    "\n",
    "\n",
    "num_meta_epochs = 10"
   ]
  },
  {
   "cell_type": "code",
   "execution_count": null,
   "metadata": {},
   "outputs": [],
   "source": [
    "pd = evaluation.repeat_experiment(ensembles.BootstrapEnsemble, dataset_creation.LinearDataset,num_meta_epochs=num_meta_epochs)"
   ]
  },
  {
   "cell_type": "code",
   "execution_count": 2,
   "metadata": {},
   "outputs": [
    {
     "ename": "TypeError",
     "evalue": "super(type, obj): obj must be an instance or subtype of type",
     "output_type": "error",
     "traceback": [
      "\u001b[0;31m---------------------------------------------------------------------------\u001b[0m",
      "\u001b[0;31mTypeError\u001b[0m                                 Traceback (most recent call last)",
      "\u001b[0;32m<ipython-input-2-3964939166b1>\u001b[0m in \u001b[0;36m<module>\u001b[0;34m()\u001b[0m\n\u001b[0;32m----> 1\u001b[0;31m \u001b[0mpd\u001b[0m \u001b[0;34m=\u001b[0m \u001b[0mevaluation\u001b[0m\u001b[0;34m.\u001b[0m\u001b[0mrepeat_experiment\u001b[0m\u001b[0;34m(\u001b[0m\u001b[0mensembles\u001b[0m\u001b[0;34m.\u001b[0m\u001b[0mBootstrapThroughTimeBobStrap\u001b[0m\u001b[0;34m,\u001b[0m \u001b[0mdataset_creation\u001b[0m\u001b[0;34m.\u001b[0m\u001b[0mLinearDataset\u001b[0m\u001b[0;34m,\u001b[0m\u001b[0mnum_meta_epochs\u001b[0m\u001b[0;34m=\u001b[0m\u001b[0mnum_meta_epochs\u001b[0m\u001b[0;34m)\u001b[0m\u001b[0;34m\u001b[0m\u001b[0m\n\u001b[0m",
      "\u001b[0;32m~/Documents/Master-Thesis/new_version/evaluation.py\u001b[0m in \u001b[0;36mrepeat_experiment\u001b[0;34m(model_creator, dataset_creator, num_meta_epochs, plot, model_params, datset_params)\u001b[0m\n\u001b[1;32m     84\u001b[0m \u001b[0;34m\u001b[0m\u001b[0m\n\u001b[1;32m     85\u001b[0m         \u001b[0;31m#model = model_creator(**model_params)  #create a model\u001b[0m\u001b[0;34m\u001b[0m\u001b[0;34m\u001b[0m\u001b[0m\n\u001b[0;32m---> 86\u001b[0;31m         \u001b[0mmodel\u001b[0m \u001b[0;34m=\u001b[0m \u001b[0mmodel_creator\u001b[0m\u001b[0;34m(\u001b[0m\u001b[0;34m**\u001b[0m\u001b[0mdatset_params\u001b[0m\u001b[0;34m)\u001b[0m  \u001b[0;31m#create a model\u001b[0m\u001b[0;34m\u001b[0m\u001b[0m\n\u001b[0m\u001b[1;32m     87\u001b[0m         \u001b[0;31m#dataset = dataset_creator(**datset_params)  #create a dataset\u001b[0m\u001b[0;34m\u001b[0m\u001b[0;34m\u001b[0m\u001b[0m\n\u001b[1;32m     88\u001b[0m \u001b[0;34m\u001b[0m\u001b[0m\n",
      "\u001b[0;32m~/Documents/Master-Thesis/new_version/ensembles.py\u001b[0m in \u001b[0;36m__init__\u001b[0;34m(self, num_features, num_epochs, num_models, model_name, seed)\u001b[0m\n\u001b[1;32m     99\u001b[0m                  model_name='copynetwork', seed=42):\n\u001b[1;32m    100\u001b[0m         \u001b[0mself\u001b[0m\u001b[0;34m.\u001b[0m\u001b[0mmodel_name\u001b[0m \u001b[0;34m=\u001b[0m \u001b[0;34m'checkpoints/'\u001b[0m \u001b[0;34m+\u001b[0m \u001b[0mmodel_name\u001b[0m\u001b[0;34m\u001b[0m\u001b[0m\n\u001b[0;32m--> 101\u001b[0;31m         \u001b[0mself\u001b[0m\u001b[0;34m.\u001b[0m\u001b[0mmodel\u001b[0m \u001b[0;34m=\u001b[0m \u001b[0mCopyNetwork\u001b[0m\u001b[0;34m(\u001b[0m\u001b[0mseed\u001b[0m\u001b[0;34m=\u001b[0m\u001b[0mseed\u001b[0m\u001b[0;34m)\u001b[0m\u001b[0;34m\u001b[0m\u001b[0m\n\u001b[0m\u001b[1;32m    102\u001b[0m         \u001b[0mself\u001b[0m\u001b[0;34m.\u001b[0m\u001b[0mtrain_iteration\u001b[0m \u001b[0;34m=\u001b[0m \u001b[0;36m0\u001b[0m\u001b[0;34m\u001b[0m\u001b[0m\n\u001b[1;32m    103\u001b[0m \u001b[0;34m\u001b[0m\u001b[0m\n",
      "\u001b[0;32m~/Documents/Master-Thesis/new_version/networks.py\u001b[0m in \u001b[0;36m__init__\u001b[0;34m(self, num_neurons, num_features, learning_rate, activations, dropout_layers, initialisation_scheme, optimizer, num_epochs, seed, adversarial)\u001b[0m\n\u001b[1;32m     24\u001b[0m             adversarial=None):\n\u001b[1;32m     25\u001b[0m \u001b[0;34m\u001b[0m\u001b[0m\n\u001b[0;32m---> 26\u001b[0;31m         super(CopyNetwork, self).__init__(\n\u001b[0m\u001b[1;32m     27\u001b[0m             \u001b[0mnum_neurons\u001b[0m\u001b[0;34m,\u001b[0m \u001b[0mnum_features\u001b[0m\u001b[0;34m,\u001b[0m \u001b[0mlearning_rate\u001b[0m\u001b[0;34m,\u001b[0m \u001b[0mactivations\u001b[0m\u001b[0;34m,\u001b[0m\u001b[0;34m\u001b[0m\u001b[0m\n\u001b[1;32m     28\u001b[0m             \u001b[0mdropout_layers\u001b[0m\u001b[0;34m,\u001b[0m \u001b[0minitialisation_scheme\u001b[0m\u001b[0;34m,\u001b[0m \u001b[0moptimizer\u001b[0m\u001b[0;34m,\u001b[0m \u001b[0mnum_epochs\u001b[0m\u001b[0;34m,\u001b[0m \u001b[0mseed\u001b[0m\u001b[0;34m,\u001b[0m\u001b[0;34m\u001b[0m\u001b[0m\n",
      "\u001b[0;31mTypeError\u001b[0m: super(type, obj): obj must be an instance or subtype of type"
     ]
    }
   ],
   "source": [
    "pd = evaluation.repeat_experiment(ensembles.BootstrapThroughTimeBobStrap, dataset_creation.LinearDataset,num_meta_epochs=num_meta_epochs)"
   ]
  },
  {
   "cell_type": "code",
   "execution_count": null,
   "metadata": {},
   "outputs": [],
   "source": []
  }
 ],
 "metadata": {
  "kernelspec": {
   "display_name": "Python 3",
   "language": "python",
   "name": "python3"
  },
  "language_info": {
   "codemirror_mode": {
    "name": "ipython",
    "version": 3
   },
   "file_extension": ".py",
   "mimetype": "text/x-python",
   "name": "python",
   "nbconvert_exporter": "python",
   "pygments_lexer": "ipython3",
   "version": "3.5.4"
  }
 },
 "nbformat": 4,
 "nbformat_minor": 2
}
