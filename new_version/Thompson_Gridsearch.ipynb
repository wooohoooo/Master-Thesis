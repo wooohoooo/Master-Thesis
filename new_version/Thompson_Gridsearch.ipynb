{
 "cells": [
  {
   "cell_type": "code",
   "execution_count": 24,
   "metadata": {},
   "outputs": [
    {
     "data": {
      "text/plain": [
       "<module 'evaluation' from '/Users/thomas/Documents/Master-Thesis/new_version/evaluation.py'>"
      ]
     },
     "execution_count": 24,
     "metadata": {},
     "output_type": "execute_result"
    }
   ],
   "source": [
    "import evaluation \n",
    "import importlib\n",
    "importlib.reload(evaluation)"
   ]
  },
  {
   "cell_type": "code",
   "execution_count": 25,
   "metadata": {},
   "outputs": [],
   "source": [
    "import ensembles\n",
    "import networks\n",
    "import dataset_creation\n",
    "import tensorflow as tf"
   ]
  },
  {
   "cell_type": "code",
   "execution_count": 32,
   "metadata": {},
   "outputs": [],
   "source": [
    "trials = 10\n",
    "\n",
    "num_neurons = [[10,10,10],[5,10,5]]#[10,5,10]]\n",
    "seeds = [50,100]#,150,200]\n",
    "num_layers = len(num_neurons[0])\n",
    "learning_rates = [0.1,0.01]#,0.001]\n",
    "activations = [[tf.nn.tanh]*num_layers]#,[tf.nn.leaky_relu]*num_layers, [tf.sigmoid]*num_layers]\n",
    "initialisation_schemes = [tf.keras.initializers.he_normal, tf.contrib.layers.xavier_initializer] \n",
    "param_grid = {'num_neurons': num_neurons,\n",
    "              'activations':activations,\n",
    "             'initialisation_scheme':initialisation_schemes,\n",
    "             'learning_rate':learning_rates,\n",
    "             'seed':seeds,\n",
    "             'l2':[True,False]}\n",
    "             \n",
    "    \n",
    "    "
   ]
  },
  {
   "cell_type": "code",
   "execution_count": 33,
   "metadata": {},
   "outputs": [],
   "source": [
    "tg = evaluation.ThompsonGridSearch(param_grid=param_grid, dataset_creator=dataset_creation.LinearDataset, thompson_model=networks.DropoutNetwork,\n",
    "                 test_model=ensembles.BootstrapEnsemble)"
   ]
  },
  {
   "cell_type": "code",
   "execution_count": null,
   "metadata": {},
   "outputs": [],
   "source": [
    "tg.observe()"
   ]
  },
  {
   "cell_type": "code",
   "execution_count": null,
   "metadata": {},
   "outputs": [],
   "source": [
    "tg.plot_sample_grid()"
   ]
  },
  {
   "cell_type": "code",
   "execution_count": null,
   "metadata": {},
   "outputs": [],
   "source": [
    "tg2 = evaluation.ThompsonGridSearch(param_grid=param_grid, dataset_creator=dataset_creation.LinearDataset, thompson_model=networks.DropoutNetwork,\n",
    "                 test_model=networks.DropoutNetwork)"
   ]
  },
  {
   "cell_type": "code",
   "execution_count": null,
   "metadata": {},
   "outputs": [],
   "source": [
    "tg2.plot_sample_grid()"
   ]
  },
  {
   "cell_type": "code",
   "execution_count": null,
   "metadata": {},
   "outputs": [],
   "source": []
  },
  {
   "cell_type": "code",
   "execution_count": null,
   "metadata": {},
   "outputs": [],
   "source": []
  }
 ],
 "metadata": {
  "kernelspec": {
   "display_name": "Python 3",
   "language": "python",
   "name": "python3"
  },
  "language_info": {
   "codemirror_mode": {
    "name": "ipython",
    "version": 3
   },
   "file_extension": ".py",
   "mimetype": "text/x-python",
   "name": "python",
   "nbconvert_exporter": "python",
   "pygments_lexer": "ipython3",
   "version": "3.6.0"
  }
 },
 "nbformat": 4,
 "nbformat_minor": 2
}
