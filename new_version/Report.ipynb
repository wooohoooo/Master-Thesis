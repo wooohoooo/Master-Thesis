{
 "cells": [
  {
   "cell_type": "markdown",
   "metadata": {},
   "source": [
    "# Uncertainty in Deep Neural Networks\n"
   ]
  },
  {
   "cell_type": "markdown",
   "metadata": {},
   "source": [
    "# Introduction\n",
    "\n",
    "## Uncertainty\n",
    "### What is uncertainty\n",
    "### Why do we need uncertainty\n",
    "### What does uncertainty express\n",
    "### Can we quantify if it's good PU or is that impossible\n",
    "By definition, uncertainty is a number quantifying unknowns about a thing. It is however possible to say something is 'good' unknowing vs 'bad' unknowing: \n",
    "Good unknowing would actually contain unknowns, while 'bad' unknowing would also ignore knowledge that we have. \n",
    "\n",
    "Maximum entropy principle should apply to Posterior the same way it applies to the Prior. In simple words, this means that the posterior should be as informative as possible while not making up additional information\n",
    "### Bayesian vs Frequentist\n",
    "\n",
    "\n",
    "### predictive Uncertainty: uncertainty about the mean vs estimation of error\n",
    "\n",
    "\n",
    "## Deep Neural Networks\n",
    "### What is Deep Neural Networks\n",
    "### why do we use Deep Neural Networks\n",
    "### Why do Deep Neural Networks not contain uncertainty\n",
    "\n",
    "## Approaches\n",
    "There are three distinct approaches that can extract predictive uncertainty\n",
    "\n",
    "### Distribution over Parameters (fully bayesian)\n",
    "#### Awesome, but intractable\n",
    "\n",
    "### Ensembles\n",
    "#### Ensemble Through Time\n",
    "#### Bootstrap\n",
    "#### Dimensionality Network\n",
    "#### Forced Diversity\n",
    "\n",
    "### one-network-estimators\n",
    "#### Dropout MCMC\n",
    "#### GaussianLoss\n",
    "\n",
    "### Adversarial Training\n",
    "\n",
    "# Methods\n",
    "## Datasets\n",
    "For self generated toy datasets, in each iteration of testing a new seed was passed, to test for similar but different datasets.\n",
    "\n",
    "The real life datasets have not been modified (apart from random shuffling) in each testing period\n",
    "### linear toy\n",
    "### nonlinear toy\n",
    "### the X^3 thing from the paper\n",
    "### Boston housing\n",
    "### Stock price\n",
    "\n",
    "\n",
    "\n",
    "## Measures\n",
    "### NLPD\n",
    "### CoBEAU\n",
    "### Coverage\n",
    "### out of sample behaviour\n",
    "\n",
    "\n",
    "# Results\n",
    "\n",
    "# Disussion"
   ]
  },
  {
   "cell_type": "code",
   "execution_count": null,
   "metadata": {},
   "outputs": [],
   "source": []
  },
  {
   "cell_type": "code",
   "execution_count": null,
   "metadata": {},
   "outputs": [],
   "source": []
  }
 ],
 "metadata": {
  "kernelspec": {
   "display_name": "Python 3",
   "language": "python",
   "name": "python3"
  },
  "language_info": {
   "codemirror_mode": {
    "name": "ipython",
    "version": 3
   },
   "file_extension": ".py",
   "mimetype": "text/x-python",
   "name": "python",
   "nbconvert_exporter": "python",
   "pygments_lexer": "ipython3",
   "version": "3.5.4"
  }
 },
 "nbformat": 4,
 "nbformat_minor": 2
}
