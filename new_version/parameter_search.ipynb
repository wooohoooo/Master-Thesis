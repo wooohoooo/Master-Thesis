{
 "cells": [
  {
   "cell_type": "code",
   "execution_count": 1,
   "metadata": {},
   "outputs": [],
   "source": [
    "from base import EnsembleNetwork\n",
    "from operator import itemgetter\n",
    "import numpy as np\n",
    "import networks\n",
    "import progressbar\n",
    "import time\n"
   ]
  },
  {
   "cell_type": "markdown",
   "metadata": {},
   "source": [
    "AI GRIDSEARCH? THOMSPON SAMPLING? HUH?\n"
   ]
  },
  {
   "cell_type": "code",
   "execution_count": 2,
   "metadata": {},
   "outputs": [],
   "source": [
    "import dataset_creation\n",
    "import tensorflow as tf\n",
    "import matplotlib.pyplot as plt\n",
    "%matplotlib inline\n",
    "plt.rcParams['figure.figsize'] = [20, 5]\n",
    "import pprint\n",
    "pp = pprint.PrettyPrinter(indent=4)"
   ]
  },
  {
   "cell_type": "code",
   "execution_count": 3,
   "metadata": {},
   "outputs": [
    {
     "data": {
      "text/plain": [
       "<matplotlib.collections.PathCollection at 0x1a2f008198>"
      ]
     },
     "execution_count": 3,
     "metadata": {},
     "output_type": "execute_result"
    },
    {
     "data": {
      "image/png": "[encoded data removed]",
      "text/plain": [
       "<Figure size 1440x360 with 1 Axes>"
      ]
     },
     "metadata": {},
     "output_type": "display_data"
    }
   ],
   "source": [
    "seed = 50\n",
    "ds = dataset_creation.LinearDataset(seed=50)\n",
    "X_train,y_train = ds.train_dataset\n",
    "X_test,y_test = ds.test_dataset\n",
    "plt.scatter(X_train,y_train)\n",
    "plt.scatter(X_test,y_test)"
   ]
  },
  {
   "cell_type": "markdown",
   "metadata": {},
   "source": [
    "from sklearn.grid_search import ParameterGrid\n",
    "\n",
    "trials = 10\n",
    "\n",
    "num_neurons = [[2,3,2],[10,10,10],[1,1,1]]\n",
    "seeds = [50,100,150]\n",
    "num_layers = len(num_neurons[0])\n",
    "learning_rates = [0.1,0.01,0.001]\n",
    "activations = [[tf.nn.tanh]*num_layers,[tf.nn.leaky_relu]*num_layers, [tf.sigmoid]*num_layers]\n",
    "initialisation_schemes = [tf.keras.initializers.he_normal, tf.contrib.layers.xavier_initializer] \n",
    "param_grid = {'num_neurons': num_neurons,\n",
    "              'activations':activations,\n",
    "             'initialisation_scheme':initialisation_schemes,\n",
    "             'learning_rate':learning_rates,\n",
    "             'seed':seeds,\n",
    "             'l2':[True,False]}\n",
    "             \n",
    "\n",
    "grid = ParameterGrid(param_grid)\n",
    "score_listvanilla = []\n",
    "\n",
    "#for i in progressbar.progressbar(range(100)):\n",
    "\n",
    "for params in grid:\n",
    "    start_time = time.time()\n",
    "    scores = []\n",
    "    for i in range(trials):\n",
    "        net = EnsembleNetwork(**params)\n",
    "        net.fit(X_train,y_train)\n",
    "        scores.append(net.score(X_test,y_test))\n",
    "    score = np.mean(scores)\n",
    "    var = np.var(scores)\n",
    "    score_listvanilla.append({'params':params,\n",
    "                      'score':score,\n",
    "                      'var':var})\n",
    "    end_time = time.time()\n",
    "    print('took {} seconds ({} minutes)'.format(end_time-start_time,(end_time-start_time)/60))\n",
    "    \n",
    "score_listvanilla = sorted(score_listvanilla, key=itemgetter('score'), reverse=False)\n",
    "pp.pprint(score_listvanilla[0])\n",
    "pp.pprint(score_listvanilla[-1])\n",
    "#plt.plot(scores)"
   ]
  },
  {
   "cell_type": "markdown",
   "metadata": {},
   "source": [
    "from sklearn.grid_search import ParameterGrid\n",
    "\n",
    "\n",
    "\n",
    "\n",
    "grid = ParameterGrid(param_grid)\n",
    "score_listdropout = []\n",
    "for params in grid:\n",
    "    scores = []\n",
    "    for i in range(trials):\n",
    "        net = networks.DropoutNetwork(**params)\n",
    "        net.fit(X_train,y_train)\n",
    "        scores.append(net.score(X_test,y_test))\n",
    "    score = np.mean(scores)\n",
    "    var = np.var(scores)\n",
    "    score_listdropout.append({'params':params,\n",
    "                      'score':score,\n",
    "                      'var':var})\n",
    "    \n",
    "score_listdropout = sorted(score_listdropout, key=itemgetter('score'), reverse=False)\n",
    "pp.pprint(score_listdropout[0])\n",
    "pp.pprint(score_listdropout[-1])\n"
   ]
  },
  {
   "cell_type": "code",
   "execution_count": 22,
   "metadata": {},
   "outputs": [],
   "source": [
    "from sklearn.grid_search import ParameterGrid\n",
    "\n",
    "trials = 5\n",
    "\n",
    "num_neurons = [[10,10,10],[2,3,2]]#[[2,3,2],[10,10,10],[5,10,5],[10,5,10]]\n",
    "seeds = [1000,1500],#[50,100,150,200]\n",
    "num_layers = len(num_neurons[0])\n",
    "learning_rates = [0.1,0.001]#[0.1,0.01,0.001]\n",
    "l2 = [True,False]\n",
    "activation_schemes = [tf.nn.tanh,tf.nn.leaky_relu,tf.sigmoid]\n",
    "initialisation_schemes = [tf.keras.initializers.he_normal, tf.contrib.layers.xavier_initializer] \n",
    "param_grid = {'num_neurons': num_neurons,\n",
    "              'activation_schemes':activation_schemes,\n",
    "             'initialisation_schemes':initialisation_schemes,\n",
    "             'learning_rates':learning_rates,\n",
    "             'seeds':seeds,\n",
    "             'l2':l2,\n",
    "              'trials':trials}\n",
    "\n",
    "\n",
    "\n",
    "grid = ParameterGrid(param_grid)"
   ]
  },
  {
   "cell_type": "code",
   "execution_count": 23,
   "metadata": {},
   "outputs": [],
   "source": [
    "import ensembles\n",
    "import importlib\n",
    "importlib.reload(ensembles)\n",
    "import evaluation"
   ]
  },
  {
   "cell_type": "code",
   "execution_count": 25,
   "metadata": {},
   "outputs": [
    {
     "name": "stdout",
     "output_type": "stream",
     "text": [
      "gridsearched_parameters/model_classbase_EnsembleNetwork_classdataset_creation_LinearDataset\n",
      "162\n",
      "experiment started at 2018-08-11 11:04:01.440164. Doing 10 trials each for 162 combinations\n",
      "took 51.179412841796875 seconds (0.8529902140299479 minutes) to do 0 out of 162. Overall, estimated time is: 829.1064880371093 minutes\n",
      "took 52.06246995925903 seconds (0.8677078326543172 minutes) to do 1 out of 162. Overall, estimated time is: 831.0971565485 minutes\n",
      "took 47.32855987548828 seconds (0.788809331258138 minutes) to do 2 out of 162. Overall, estimated time is: 803.042360941569 minutes\n",
      "took 46.888184785842896 seconds (0.7814697464307149 minutes) to do 3 out of 162. Overall, estimated time is: 784.8980441629886 minutes\n",
      "took 46.9589569568634 seconds (0.78264928261439 minutes) to do 4 out of 162. Overall, estimated time is: 772.3595667648316 minutes\n",
      "took 46.83477997779846 seconds (0.780579666296641 minutes) to do 5 out of 162. Overall, estimated time is: 762.1103535056114 minutes\n",
      "took 46.11322021484375 seconds (0.7685536702473958 minutes) to do 6 out of 162. Overall, estimated time is: 751.8433028493608 minutes\n",
      "took 46.420466899871826 seconds (0.7736744483311971 minutes) to do 7 out of 162. Overall, estimated time is: 743.5854748040438 minutes\n",
      "took 46.12793016433716 seconds (0.7687988360722859 minutes) to do 8 out of 162. Overall, estimated time is: 735.6305908679963 minutes\n",
      "took 47.63776206970215 seconds (0.7939627011617024 minutes) to do 9 out of 162. Overall, estimated time is: 730.6541679310799 minutes\n",
      "took 50.316429138183594 seconds (0.8386071523030599 minutes) to do 10 out of 162. Overall, estimated time is: 729.4178388942372 minutes\n",
      "took 49.81437587738037 seconds (0.8302395979563395 minutes) to do 11 out of 162. Overall, estimated time is: 726.9172071913878 minutes\n",
      "took 48.94112801551819 seconds (0.8156854669253032 minutes) to do 12 out of 162. Overall, estimated time is: 723.0273193579453 minutes\n",
      "took 49.907508850097656 seconds (0.8317918141682943 minutes) to do 13 out of 162. Overall, estimated time is: 720.0224761315754 minutes\n",
      "took 50.019623041152954 seconds (0.8336603840192159 minutes) to do 14 out of 162. Overall, estimated time is: 716.8634645525615 minutes\n",
      "took 48.38783669471741 seconds (0.8064639449119568 minutes) to do 15 out of 162. Overall, estimated time is: 711.9748804271221 minutes\n",
      "took 48.17619776725769 seconds (0.8029366294542949 minutes) to do 16 out of 162. Overall, estimated time is: 706.9103946882136 minutes\n",
      "took 48.6931369304657 seconds (0.8115522821744283 minutes) to do 17 out of 162. Overall, estimated time is: 702.2897617154651 minutes\n",
      "took 49.38496208190918 seconds (0.823082701365153 minutes) to do 18 out of 162. Overall, estimated time is: 698.1672824658846 minutes\n",
      "took 50.12575101852417 seconds (0.8354291836420695 minutes) to do 19 out of 162. Overall, estimated time is: 694.4928656101226 minutes\n",
      "took 50.202523946762085 seconds (0.8367087324460347 minutes) to do 20 out of 162. Overall, estimated time is: 690.7429182347797 minutes\n",
      "took 48.57266426086426 seconds (0.8095444043477377 minutes) to do 21 out of 162. Overall, estimated time is: 685.8328966953537 minutes\n",
      "took 49.31767416000366 seconds (0.821961236000061 minutes) to do 22 out of 162. Overall, estimated time is: 681.3809468435204 minutes\n",
      "took 49.19234108924866 seconds (0.8198723514874776 minutes) to do 23 out of 162. Overall, estimated time is: 676.816423457861 minutes\n",
      "took 53.62957310676575 seconds (0.8938262184460958 minutes) to do 24 out of 162. Overall, estimated time is: 674.6728752880097 minutes\n",
      "took 48.76512575149536 seconds (0.812752095858256 minutes) to do 25 out of 162. Overall, estimated time is: 669.7184906932024 minutes\n",
      "took 48.903722047805786 seconds (0.8150620341300965 minutes) to do 26 out of 162. Overall, estimated time is: 664.8396858639187 minutes\n",
      "took 50.323283195495605 seconds (0.8387213865915935 minutes) to do 27 out of 162. Overall, estimated time is: 660.6444860611643 minutes\n",
      "took 50.96666383743286 seconds (0.8494443972905477 minutes) to do 28 out of 162. Overall, estimated time is: 656.6888394849054 minutes\n",
      "took 51.106688022613525 seconds (0.8517781337102254 minutes) to do 29 out of 162. Overall, estimated time is: 652.7192023102442 minutes\n",
      "took 54.06527495384216 seconds (0.9010879158973694 minutes) to do 30 out of 162. Overall, estimated time is: 649.9357355948417 minutes\n",
      "took 47.56156802177429 seconds (0.7926928003629049 minutes) to do 31 out of 162. Overall, estimated time is: 644.3258725553751 minutes\n",
      "took 49.57690906524658 seconds (0.8262818177541097 minutes) to do 32 out of 162. Overall, estimated time is: 639.561671517112 minutes\n",
      "took 48.07651400566101 seconds (0.8012752334276835 minutes) to do 33 out of 162. Overall, estimated time is: 634.2168211845791 minutes\n",
      "took 48.197160959243774 seconds (0.8032860159873962 minutes) to do 34 out of 162. Overall, estimated time is: 628.9467902483259 minutes\n",
      "took 48.65340495109558 seconds (0.8108900825182597 minutes) to do 35 out of 162. Overall, estimated time is: 623.862729544772 minutes\n",
      "took 50.29474925994873 seconds (0.8382458209991455 minutes) to do 36 out of 162. Overall, estimated time is: 619.3494358333381 minutes\n",
      "took 51.54639196395874 seconds (0.8591065327326457 minutes) to do 37 out of 162. Overall, estimated time is: 615.2206992632465 minutes\n",
      "took 51.82836413383484 seconds (0.8638060688972473 minutes) to do 38 out of 162. Overall, estimated time is: 611.1290049919714 minutes\n",
      "took 50.047417879104614 seconds (0.8341236313184103 minutes) to do 39 out of 162. Overall, estimated time is: 606.4351126402617 minutes\n",
      "took 49.72519135475159 seconds (0.8287531892458598 minutes) to do 40 out of 162. Overall, estimated time is: 601.6301748624662 minutes\n",
      "took 50.64393997192383 seconds (0.8440656661987305 minutes) to do 41 out of 162. Overall, estimated time is: 597.0819441216333 minutes\n",
      "took 48.82285785675049 seconds (0.8137142976125081 minutes) to do 42 out of 162. Overall, estimated time is: 592.0014968251073 minutes\n",
      "took 54.93801021575928 seconds (0.9156335035959879 minutes) to do 43 out of 162. Overall, estimated time is: 588.5839276216248 minutes\n",
      "took 52.736145973205566 seconds (0.8789357662200927 minutes) to do 44 out of 162. Overall, estimated time is: 584.496703713735 minutes\n",
      "took 50.70805096626282 seconds (0.8451341827710469 minutes) to do 45 out of 162. Overall, estimated time is: 579.8420560458433 minutes\n",
      "took 54.85412096977234 seconds (0.9142353494962057 minutes) to do 46 out of 162. Overall, estimated time is: 576.1929849137651 minutes\n",
      "took 51.19167113304138 seconds (0.853194518884023 minutes) to do 47 out of 162. Overall, estimated time is: 571.5899376347661 minutes\n",
      "took 54.77090406417847 seconds (0.9128484010696412 minutes) to do 48 out of 162. Overall, estimated time is: 567.7985437383456 minutes\n",
      "took 52.73819398880005 seconds (0.8789698998133342 minutes) to do 49 out of 162. Overall, estimated time is: 563.48032950449 minutes\n",
      "took 53.62855792045593 seconds (0.8938092986742655 minutes) to do 50 out of 162. Overall, estimated time is: 559.3201714609183 minutes\n",
      "took 52.24081611633301 seconds (0.8706802686055501 minutes) to do 51 out of 162. Overall, estimated time is: 554.8175263111408 minutes\n",
      "took 50.654924154281616 seconds (0.8442487359046936 minutes) to do 52 out of 162. Overall, estimated time is: 549.9585097555844 minutes\n",
      "took 73.05794596672058 seconds (1.2176324327786763 minutes) to do 53 out of 162. Overall, estimated time is: 549.6139373858771 minutes\n",
      "took 37.2351291179657 seconds (0.6205854852994283 minutes) to do 54 out of 162. Overall, estimated time is: 541.9819310812517 minutes\n",
      "took 34.71502113342285 seconds (0.5785836855570475 minutes) to do 55 out of 162. Overall, estimated time is: 534.0079931936094 minutes\n",
      "took 34.761677980422974 seconds (0.5793612996737162 minutes) to do 56 out of 162. Overall, estimated time is: 526.2007120450338 minutes\n",
      "took 34.16006684303284 seconds (0.5693344473838806 minutes) to do 57 out of 162. Overall, estimated time is: 518.4338672716042 minutes\n",
      "took 33.91645908355713 seconds (0.5652743180592855 minutes) to do 58 out of 162. Overall, estimated time is: 510.7715675063052 minutes\n",
      "took 34.02868604660034 seconds (0.5671447674433391 minutes) to do 59 out of 162. Overall, estimated time is: 503.2708884982268 minutes\n",
      "took 34.26174068450928 seconds (0.5710290114084879 minutes) to do 60 out of 162. Overall, estimated time is: 495.9435337215174 minutes\n",
      "took 34.299694776535034 seconds (0.5716615796089173 minutes) to do 61 out of 162. Overall, estimated time is: 488.74820632780757 minutes\n",
      "took 34.342336893081665 seconds (0.5723722815513611 minutes) to do 62 out of 162. Overall, estimated time is: 481.679182695964 minutes\n",
      "took 34.226901054382324 seconds (0.570448350906372 minutes) to do 63 out of 162. Overall, estimated time is: 474.70588976852594 minutes\n",
      "took 34.276374101638794 seconds (0.5712729016939799 minutes) to do 64 out of 162. Overall, estimated time is: 467.84930517196653 minutes\n",
      "took 34.33129024505615 seconds (0.5721881707509359 minutes) to do 65 out of 162. Overall, estimated time is: 461.1046990748608 minutes\n",
      "took 33.88270306587219 seconds (0.5647117177645365 minutes) to do 66 out of 162. Overall, estimated time is: 454.3946678617107 minutes\n",
      "took 33.91080069541931 seconds (0.5651800115903218 minutes) to do 67 out of 162. Overall, estimated time is: 447.7862609028816 minutes\n",
      "took 33.89511322975159 seconds (0.5649185538291931 minutes) to do 68 out of 162. Overall, estimated time is: 441.2689726629119 minutes\n",
      "took 34.04425883293152 seconds (0.5674043138821919 minutes) to do 69 out of 162. Overall, estimated time is: 434.8608645364217 minutes\n",
      "took 34.20347476005554 seconds (0.5700579126675923 minutes) to do 70 out of 162. Overall, estimated time is: 428.5579979735361 minutes\n",
      "took 34.15863800048828 seconds (0.5693106333414714 minutes) to do 71 out of 162. Overall, estimated time is: 422.329534517063 minutes\n",
      "took 35.172317028045654 seconds (0.5862052838007609 minutes) to do 72 out of 162. Overall, estimated time is: 416.3031027121086 minutes\n",
      "took 34.34675598144531 seconds (0.5724459330240885 minutes) to do 73 out of 162. Overall, estimated time is: 410.2451966759321 minutes\n",
      "took 34.509249210357666 seconds (0.5751541535059611 minutes) to do 74 out of 162. Overall, estimated time is: 404.2763093236287 minutes\n",
      "took 34.103304862976074 seconds (0.5683884143829345 minutes) to do 75 out of 162. Overall, estimated time is: 398.3272141955401 minutes\n",
      "took 34.04523992538452 seconds (0.5674206654230753 minutes) to do 76 out of 162. Overall, estimated time is: 392.43757583135135 minutes\n",
      "took 33.96311593055725 seconds (0.5660519321759542 minutes) to do 77 out of 162. Overall, estimated time is: 386.60270893879425 minutes\n",
      "took 35.63823318481445 seconds (0.5939705530802409 minutes) to do 78 out of 162. Overall, estimated time is: 381.0076913568038 minutes\n",
      "took 33.82671809196472 seconds (0.5637786348660787 minutes) to do 79 out of 162. Overall, estimated time is: 375.2755089405179 minutes\n",
      "took 34.21186804771423 seconds (0.5701978007952372 minutes) to do 80 out of 162. Overall, estimated time is: 369.6403296211619 minutes\n",
      "took 34.4116268157959 seconds (0.5735271135965984 minutes) to do 81 out of 162. Overall, estimated time is: 364.0788823877893 minutes\n",
      "took 34.49734807014465 seconds (0.5749558011690775 minutes) to do 82 out of 162. Overall, estimated time is: 358.5767886380115 minutes\n",
      "took 34.746692180633545 seconds (0.5791115363438925 minutes) to do 83 out of 162. Overall, estimated time is: 353.14701079726217 minutes\n",
      "took 33.919516801834106 seconds (0.5653252800305685 minutes) to do 84 out of 162. Overall, estimated time is: 347.68733000699206 minutes\n",
      "took 33.96696496009827 seconds (0.5661160826683045 minutes) to do 85 out of 162. Overall, estimated time is: 342.27998420554536 minutes\n",
      "took 35.67217421531677 seconds (0.5945362369219462 minutes) to do 86 out of 162. Overall, estimated time is: 337.067821035714 minutes\n",
      "took 34.075331687927246 seconds (0.5679221947987875 minutes) to do 87 out of 162. Overall, estimated time is: 331.7569484629414 minutes\n",
      "took 34.388248920440674 seconds (0.5731374820073446 minutes) to do 88 out of 162. Overall, estimated time is: 326.51486539947854 minutes\n",
      "took 34.48952102661133 seconds (0.5748253504435221 minutes) to do 89 out of 162. Overall, estimated time is: 321.321069032881 minutes\n",
      "took 34.279196977615356 seconds (0.5713199496269226 minutes) to do 90 out of 162. Overall, estimated time is: 316.1489798682077 minutes\n",
      "took 34.47810363769531 seconds (0.5746350606282552 minutes) to do 91 out of 162. Overall, estimated time is: 311.03015783636465 minutes\n",
      "took 34.24037289619446 seconds (0.5706728816032409 minutes) to do 92 out of 162. Overall, estimated time is: 305.9293778275931 minutes\n",
      "took 34.15281796455383 seconds (0.5692136327425639 minutes) to do 93 out of 162. Overall, estimated time is: 300.8578462912682 minutes\n",
      "took 34.092697858810425 seconds (0.5682116309801738 minutes) to do 94 out of 162. Overall, estimated time is: 295.81687983663454 minutes\n",
      "took 34.138622999191284 seconds (0.5689770499865214 minutes) to do 95 out of 162. Overall, estimated time is: 290.81311225468914 minutes\n",
      "took 34.40297293663025 seconds (0.5733828822771708 minutes) to do 96 out of 162. Overall, estimated time is: 285.86011292172464 minutes\n",
      "took 34.38961410522461 seconds (0.5731602350870768 minutes) to do 97 out of 162. Overall, estimated time is: 280.93709901400973 minutes\n",
      "took 34.93233585357666 seconds (0.582205597559611 minutes) to do 98 out of 162. Overall, estimated time is: 276.0791510071417 minutes\n",
      "took 34.266175985336304 seconds (0.5711029330889384 minutes) to do 99 out of 162. Overall, estimated time is: 271.20652921700474 minutes\n",
      "took 34.397834062576294 seconds (0.5732972343762716 minutes) to do 100 out of 162. Overall, estimated time is: 266.37062315421525 minutes\n",
      "took 34.565486907958984 seconds (0.576091448465983 minutes) to do 101 out of 162. Overall, estimated time is: 261.5721183430915 minutes\n",
      "took 34.01889109611511 seconds (0.5669815182685852 minutes) to do 102 out of 162. Overall, estimated time is: 256.7678303996336 minutes\n",
      "took 33.96812176704407 seconds (0.5661353627840678 minutes) to do 103 out of 162. Overall, estimated time is: 251.98763148142743 minutes\n",
      "took 33.97532510757446 seconds (0.5662554184595744 minutes) to do 104 out of 162. Overall, estimated time is: 247.23418068567912 minutes\n",
      "took 34.41233706474304 seconds (0.5735389510790507 minutes) to do 105 out of 162. Overall, estimated time is: 242.5298129533822 minutes\n",
      "took 34.18283700942993 seconds (0.5697139501571655 minutes) to do 106 out of 162. Overall, estimated time is: 237.83704398502815 minutes\n",
      "took 34.21171283721924 seconds (0.570195213953654 minutes) to do 107 out of 162. Overall, estimated time is: 233.16934712396727 minutes\n",
      "took 34.247798919677734 seconds (0.5707966486612955 minutes) to do 108 out of 162. Overall, estimated time is: 228.5263100427225 minutes\n",
      "took 34.71382999420166 seconds (0.5785638332366944 minutes) to do 109 out of 162. Overall, estimated time is: 223.92787731669165 minutes\n",
      "took 34.319950103759766 seconds (0.5719991683959961 minutes) to do 110 out of 162. Overall, estimated time is: 219.3312997620385 minutes\n",
      "took 33.83567023277283 seconds (0.5639278372128804 minutes) to do 111 out of 162. Overall, estimated time is: 214.73346629440783 minutes\n",
      "took 33.9211220741272 seconds (0.5653520345687866 minutes) to do 112 out of 162. Overall, estimated time is: 210.16090532319737 minutes\n",
      "took 34.00228309631348 seconds (0.5667047182718913 minutes) to do 113 out of 162. Overall, estimated time is: 205.61254247949833 minutes\n",
      "took 35.031917095184326 seconds (0.5838652849197388 minutes) to do 114 out of 162. Overall, estimated time is: 201.1271232206925 minutes\n",
      "took 34.41577196121216 seconds (0.573596199353536 minutes) to do 115 out of 162. Overall, estimated time is: 196.6336744185152 minutes\n",
      "took 34.188173055648804 seconds (0.5698028842608134 minutes) to do 116 out of 162. Overall, estimated time is: 192.14925799451322 minutes\n",
      "took 34.4396538734436 seconds (0.57399423122406 minutes) to do 117 out of 162. Overall, estimated time is: 187.69249294268883 minutes\n",
      "took 34.230326652526855 seconds (0.5705054442087809 minutes) to do 118 out of 162. Overall, estimated time is: 183.24500990394785 minutes\n",
      "took 34.43254089355469 seconds (0.5738756815592448 minutes) to do 119 out of 162. Overall, estimated time is: 178.82184704840182 minutes\n",
      "took 33.860082149505615 seconds (0.5643347024917602 minutes) to do 120 out of 162. Overall, estimated time is: 174.3950105631647 minutes\n",
      "took 33.86739206314087 seconds (0.5644565343856811 minutes) to do 121 out of 162. Overall, estimated time is: 169.98548249748885 minutes\n",
      "took 35.74831509590149 seconds (0.5958052515983582 minutes) to do 122 out of 162. Overall, estimated time is: 165.65375337368104 minutes\n",
      "took 36.38767218589783 seconds (0.6064612030982971 minutes) to do 123 out of 162. Overall, estimated time is: 161.35434108761052 minutes\n",
      "took 37.579756021499634 seconds (0.6263292670249939 minutes) to do 124 out of 162. Overall, estimated time is: 157.10173847122192 minutes\n",
      "took 40.15083622932434 seconds (0.6691806038220723 minutes) to do 125 out of 162. Overall, estimated time is: 152.93248705163836 minutes\n",
      "took 37.033141136169434 seconds (0.6172190189361573 minutes) to do 126 out of 162. Overall, estimated time is: 148.67728786243228 minutes\n",
      "took 44.55377697944641 seconds (0.7425629496574402 minutes) to do 127 out of 162. Overall, estimated time is: 144.6363542638719 minutes\n",
      "took 49.651604890823364 seconds (0.8275267481803894 minutes) to do 128 out of 162. Overall, estimated time is: 140.72335653120234 minutes\n",
      "took 46.818015813827515 seconds (0.7803002635637919 minutes) to do 129 out of 162. Overall, estimated time is: 136.72224211032574 minutes\n",
      "took 46.994789123535156 seconds (0.7832464853922526 minutes) to do 130 out of 162. Overall, estimated time is: 132.7150536457091 minutes\n",
      "took 45.6190447807312 seconds (0.7603174130121867 minutes) to do 131 out of 162. Overall, estimated time is: 128.66506678443966 minutes\n",
      "took 48.33696889877319 seconds (0.8056161483128865 minutes) to do 132 out of 162. Overall, estimated time is: 124.66868847294856 minutes\n",
      "took 45.3455548286438 seconds (0.7557592471440633 minutes) to do 133 out of 162. Overall, estimated time is: 120.59507331100863 minutes\n",
      "took 47.48021101951599 seconds (0.7913368503252666 minutes) to do 134 out of 162. Overall, estimated time is: 116.558903754199 minutes\n",
      "took 47.26143717765808 seconds (0.7876906196276346 minutes) to do 135 out of 162. Overall, estimated time is: 112.50792248810039 minutes\n",
      "took 45.67789316177368 seconds (0.7612982193628947 minutes) to do 136 out of 162. Overall, estimated time is: 108.4170321756906 minutes\n",
      "took 42.98760199546814 seconds (0.7164600332578023 minutes) to do 137 out of 162. Overall, estimated time is: 104.27049312470615 minutes\n",
      "took 41.833117723464966 seconds (0.6972186287244161 minutes) to do 138 out of 162. Overall, estimated time is: 100.10183029998122 minutes\n",
      "took 41.07732033729553 seconds (0.6846220056215923 minutes) to do 139 out of 162. Overall, estimated time is: 95.92054153323173 minutes\n",
      "took 46.6783390045166 seconds (0.7779723167419433 minutes) to do 140 out of 162. Overall, estimated time is: 91.82768790502074 minutes\n",
      "took 40.5121967792511 seconds (0.675203279654185 minutes) to do 141 out of 162. Overall, estimated time is: 87.63554653584119 minutes\n",
      "took 39.48527193069458 seconds (0.6580878655115764 minutes) to do 142 out of 162. Overall, estimated time is: 83.43101351411192 minutes\n",
      "took 39.06905198097229 seconds (0.6511508663495381 minutes) to do 143 out of 162. Overall, estimated time is: 79.22454433788856 minutes\n",
      "took 34.37148475646973 seconds (0.5728580792744954 minutes) to do 144 out of 162. Overall, estimated time is: 74.96389245099034 minutes\n",
      "took 43.834418058395386 seconds (0.7305736343065897 minutes) to do 145 out of 162. Overall, estimated time is: 70.82470627255636 minutes\n",
      "took 39.169898986816406 seconds (0.6528316497802734 minutes) to do 146 out of 162. Overall, estimated time is: 66.6314266126983 minutes\n",
      "took 37.23923921585083 seconds (0.6206539869308472 minutes) to do 147 out of 162. Overall, estimated time is: 62.42231310058285 minutes\n",
      "took 36.91514706611633 seconds (0.6152524511019389 minutes) to do 148 out of 162. Overall, estimated time is: 58.21666703928238 minutes\n",
      "took 36.92982721328735 seconds (0.6154971202214559 minutes) to do 149 out of 162. Overall, estimated time is: 54.018003290653226 minutes\n",
      "took 38.111693143844604 seconds (0.6351948857307435 minutes) to do 150 out of 162. Overall, estimated time is: 49.835429616006 minutes\n",
      "took 37.04974007606506 seconds (0.6174956679344177 minutes) to do 151 out of 162. Overall, estimated time is: 45.6500576541612 minutes\n",
      "took 38.457545042037964 seconds (0.6409590840339661 minutes) to do 152 out of 162. Overall, estimated time is: 41.48016674378339 minutes\n",
      "took 40.2143669128418 seconds (0.6702394485473633 minutes) to do 153 out of 162. Overall, estimated time is: 37.32475253792552 minutes\n",
      "took 36.02324891090393 seconds (0.6003874818483989 minutes) to do 154 out of 162. Overall, estimated time is: 33.14943549740699 minutes\n",
      "took 37.96690011024475 seconds (0.6327816685040791 minutes) to do 155 out of 162. Overall, estimated time is: 28.990186021878174 minutes\n",
      "took 37.181018114089966 seconds (0.6196836352348327 minutes) to do 156 out of 162. Overall, estimated time is: 24.832551767567917 minutes\n",
      "took 35.33734202384949 seconds (0.5889557003974915 minutes) to do 157 out of 162. Overall, estimated time is: 20.674646797059456 minutes\n",
      "took 36.93432807922363 seconds (0.6155721346537272 minutes) to do 158 out of 162. Overall, estimated time is: 16.528610606163554 minutes\n",
      "took 36.35317301750183 seconds (0.6058862169583639 minutes) to do 159 out of 162. Overall, estimated time is: 12.387142291814088 minutes\n",
      "took 36.31764101982117 seconds (0.6052940169970195 minutes) to do 160 out of 162. Overall, estimated time is: 8.251917428555696 minutes\n",
      "took 36.94087195396423 seconds (0.6156811992327372 minutes) to do 161 out of 162. Overall, estimated time is: 4.123292840704506 minutes\n",
      "{   'params': {   'activations': [   <function tanh at 0x11c3937b8>,\n",
      "                                     <function tanh at 0x11c3937b8>,\n",
      "                                     <function tanh at 0x11c3937b8>],\n",
      "                  'initialisation_scheme': <function xavier_initializer at 0x1a2fa14840>,\n",
      "                  'learning_rate': 0.001,\n",
      "                  'num_neurons': [10, 10, 10],\n",
      "                  'seed': 150},\n",
      "    'score': 0.07166938288866129,\n",
      "    'var': 1.7756528882430896e-05}\n",
      "{   'params': {   'activations': [   <function leaky_relu at 0x129e65d08>,\n",
      "                                     <function leaky_relu at 0x129e65d08>,\n",
      "                                     <function leaky_relu at 0x129e65d08>],\n",
      "                  'initialisation_scheme': <function he_normal at 0x12a279950>,\n",
      "                  'learning_rate': 0.1,\n",
      "                  'num_neurons': [10, 10, 10],\n",
      "                  'seed': 100},\n",
      "    'score': 5.435464787729651,\n",
      "    'var': 107.64610452717321}\n"
     ]
    },
    {
     "data": {
      "image/png": "[encoded data removed]",
      "text/plain": [
       "<Figure size 1080x360 with 1 Axes>"
      ]
     },
     "metadata": {},
     "output_type": "display_data"
    }
   ],
   "source": [
    "score_lis_ensemblet = evaluation.gridsearch(EnsembleNetwork,dataset_creation.LinearDataset)#,**param_grid)"
   ]
  },
  {
   "cell_type": "code",
   "execution_count": 26,
   "metadata": {},
   "outputs": [
    {
     "data": {
      "text/plain": [
       "[<matplotlib.lines.Line2D at 0x1a3154f518>]"
      ]
     },
     "execution_count": 26,
     "metadata": {},
     "output_type": "execute_result"
    },
    {
     "data": {
      "image/png": "[encoded data removed]",
      "text/plain": [
       "<Figure size 1080x360 with 1 Axes>"
      ]
     },
     "metadata": {},
     "output_type": "display_data"
    }
   ],
   "source": [
    "scores_ens = [x['score'] for x in score_lis_ensemblet]\n",
    "plt.plot(scores_ens)"
   ]
  },
  {
   "cell_type": "code",
   "execution_count": 13,
   "metadata": {},
   "outputs": [
    {
     "data": {
      "text/plain": [
       "<module 'ensembles' from '/Users/thomas/Documents/Master-Thesis/new_version/ensembles.py'>"
      ]
     },
     "execution_count": 13,
     "metadata": {},
     "output_type": "execute_result"
    }
   ],
   "source": [
    "import ensembles\n",
    "importlib.reload(ensembles)\n"
   ]
  },
  {
   "cell_type": "code",
   "execution_count": null,
   "metadata": {},
   "outputs": [
    {
     "name": "stdout",
     "output_type": "stream",
     "text": [
      "gridsearched_parameters/model_classensembles_BootstrapThroughTimeBobStrap_classdataset_creation_LinearDataset\n",
      "162\n",
      "experiment started at 2018-08-11 12:55:22.295170. Doing 10 trials each for 162 combinations\n",
      "doing a burn in of 3 epochs\n",
      "doing a burn in of 3 epochs\n",
      "doing a burn in of 3 epochs\n",
      "doing a burn in of 3 epochs\n",
      "doing a burn in of 3 epochs\n",
      "doing a burn in of 3 epochs\n",
      "doing a burn in of 3 epochs\n",
      "doing a burn in of 3 epochs\n",
      "doing a burn in of 3 epochs\n",
      "doing a burn in of 3 epochs\n",
      "took 620.1388611793518 seconds (10.33564768632253 minutes) to do 0 out of 162. Overall, estimated time is: 10046.249551105499 minutes\n",
      "doing a burn in of 3 epochs\n",
      "doing a burn in of 3 epochs\n",
      "doing a burn in of 3 epochs\n",
      "doing a burn in of 3 epochs\n",
      "doing a burn in of 3 epochs\n",
      "doing a burn in of 3 epochs\n",
      "doing a burn in of 3 epochs\n",
      "doing a burn in of 3 epochs\n",
      "doing a burn in of 3 epochs\n",
      "doing a burn in of 3 epochs\n",
      "took 667.9838540554047 seconds (11.133064234256745 minutes) to do 1 out of 162. Overall, estimated time is: 10369.38785763979 minutes\n",
      "doing a burn in of 3 epochs\n",
      "doing a burn in of 3 epochs\n",
      "doing a burn in of 3 epochs\n",
      "doing a burn in of 3 epochs\n",
      "doing a burn in of 3 epochs\n",
      "doing a burn in of 3 epochs\n",
      "doing a burn in of 3 epochs\n",
      "doing a burn in of 3 epochs\n",
      "doing a burn in of 3 epochs\n"
     ]
    }
   ],
   "source": [
    "score_lis_boot = evaluation.gridsearch(ensembles.BootstrapThroughTimeBobStrap,dataset_creation.LinearDataset)"
   ]
  },
  {
   "cell_type": "code",
   "execution_count": null,
   "metadata": {},
   "outputs": [],
   "source": [
    "scores_boottt = [x['score'] for x in score_lis_boot]\n",
    "plt.plot(scores_boottt)"
   ]
  },
  {
   "cell_type": "code",
   "execution_count": null,
   "metadata": {},
   "outputs": [],
   "source": [
    "score_lis_forced = evaluation.gridsearch(ensembles.ForcedDiversityBootstrapThroughTime3,dataset_creation.LinearDataset)"
   ]
  },
  {
   "cell_type": "code",
   "execution_count": null,
   "metadata": {},
   "outputs": [],
   "source": [
    "scores_forced = [x['score'] for x in score_lis_forced]\n",
    "plt.plot(scores_forced)"
   ]
  },
  {
   "cell_type": "code",
   "execution_count": null,
   "metadata": {},
   "outputs": [],
   "source": [
    "score_list_nlod = evaluation.gridsearch(networks.NlpdNetwork,dataset_creation.LinearDataset)"
   ]
  },
  {
   "cell_type": "code",
   "execution_count": null,
   "metadata": {},
   "outputs": [],
   "source": [
    "scores_nlpd = [x['score'] for x in score_list_nlod]\n",
    "plt.plot(scores_nlpd)"
   ]
  },
  {
   "cell_type": "code",
   "execution_count": null,
   "metadata": {},
   "outputs": [],
   "source": [
    "score_list_lr = evaluation.gridsearch(networks.LrNetwork,dataset_creation.LinearDataset)"
   ]
  },
  {
   "cell_type": "code",
   "execution_count": null,
   "metadata": {},
   "outputs": [],
   "source": [
    "\n",
    "score_lr = [x['score'] for x in score_list_lr]\n",
    "plt.plot(score_lr)\n",
    "\n",
    "\n"
   ]
  },
  {
   "cell_type": "code",
   "execution_count": null,
   "metadata": {},
   "outputs": [],
   "source": []
  },
  {
   "cell_type": "code",
   "execution_count": null,
   "metadata": {},
   "outputs": [],
   "source": []
  },
  {
   "cell_type": "code",
   "execution_count": null,
   "metadata": {},
   "outputs": [],
   "source": []
  },
  {
   "cell_type": "code",
   "execution_count": null,
   "metadata": {},
   "outputs": [],
   "source": []
  },
  {
   "cell_type": "code",
   "execution_count": null,
   "metadata": {},
   "outputs": [],
   "source": []
  },
  {
   "cell_type": "code",
   "execution_count": null,
   "metadata": {},
   "outputs": [],
   "source": []
  },
  {
   "cell_type": "markdown",
   "metadata": {},
   "source": [
    "# NLPD and LR"
   ]
  },
  {
   "cell_type": "code",
   "execution_count": null,
   "metadata": {},
   "outputs": [],
   "source": []
  },
  {
   "cell_type": "code",
   "execution_count": null,
   "metadata": {},
   "outputs": [],
   "source": []
  },
  {
   "cell_type": "code",
   "execution_count": null,
   "metadata": {},
   "outputs": [],
   "source": [
    "score_list = evaluation.gridsearch(networks.NlpdNetwork,dataset_creation.LinearDataset)"
   ]
  },
  {
   "cell_type": "code",
   "execution_count": null,
   "metadata": {},
   "outputs": [],
   "source": [
    "score_list = evaluation.gridsearch(networks.LrNetwork,dataset_creation.LinearDataset)"
   ]
  },
  {
   "cell_type": "markdown",
   "metadata": {},
   "source": [
    "# Nonlinear\n"
   ]
  },
  {
   "cell_type": "code",
   "execution_count": null,
   "metadata": {},
   "outputs": [],
   "source": [
    "from sklearn.grid_search import ParameterGrid\n",
    "\n",
    "trials = 10\n",
    "\n",
    "num_neurons = [[2,3,2],[10,10,10],[5,10,5],[10,5,10]]\n",
    "seeds = [50,100,150,200]\n",
    "num_layers = len(num_neurons[0])\n",
    "learning_rates = [0.1,0.01,0.001]\n",
    "activations = [[tf.nn.tanh]*num_layers,[tf.nn.leaky_relu]*num_layers, [tf.sigmoid]*num_layers]\n",
    "initialisation_schemes = [tf.keras.initializers.he_normal, tf.contrib.layers.xavier_initializer] \n",
    "param_grid = {'num_neurons': num_neurons,\n",
    "              'activations':activations,\n",
    "             'initialisation_scheme':initialisation_schemes,\n",
    "             'learning_rate':learning_rates,\n",
    "             'seed':seeds,\n",
    "             'l2':[True,False]}\n",
    "             \n",
    "    \n",
    "    \n",
    "\n",
    "l2 = [True,False]\n",
    "activation_schemes = [tf.nn.tanh,tf.nn.leaky_relu,tf.sigmoid]\n",
    "initialisation_schemes = [tf.keras.initializers.he_normal, tf.contrib.layers.xavier_initializer] \n",
    "param_grid = {'num_neurons': num_neurons,\n",
    "              'activation_schemes':activation_schemes,\n",
    "             'initialisation_schemes':initialisation_schemes,\n",
    "             'learning_rates':learning_rates,\n",
    "             'seeds':seeds,\n",
    "             'l2':l2,\n",
    "              'trials':trials}\n",
    "             \n",
    "\n",
    "grid = ParameterGrid(param_grid)"
   ]
  },
  {
   "cell_type": "code",
   "execution_count": null,
   "metadata": {},
   "outputs": [],
   "source": [
    "trials = 10\n",
    "\n",
    "num_neurons = [[10,10,10],[5,10,5],[10,5,10]]\n",
    "seeds = [50,100,150,200]\n",
    "num_layers = len(num_neurons[0])\n",
    "learning_rates = [0.1,0.01,0.001]\n",
    "activations = [[tf.nn.tanh]*num_layers,[tf.nn.leaky_relu]*num_layers, [tf.sigmoid]*num_layers]\n",
    "initialisation_schemes = [tf.keras.initializers.he_normal, tf.contrib.layers.xavier_initializer] \n",
    "param_grid = {'num_neurons': num_neurons,\n",
    "              'activations':activations,\n",
    "             'initialisation_scheme':initialisation_schemes,\n",
    "             'learning_rate':learning_rates,\n",
    "             'seed':seeds,\n",
    "             'l2':[True,False]}\n",
    "             \n",
    "    \n",
    "    "
   ]
  },
  {
   "cell_type": "code",
   "execution_count": null,
   "metadata": {},
   "outputs": [],
   "source": [
    "score_list = evaluation.gridsearch(networks.DropoutNetwork,dataset_creation.NonlinearDataset,**dropout_param_grid)"
   ]
  },
  {
   "cell_type": "code",
   "execution_count": null,
   "metadata": {},
   "outputs": [],
   "source": [
    "\n",
    "score_lr = [x['score'] for x in score_list]\n",
    "plt.plot(score_lr)\n"
   ]
  },
  {
   "cell_type": "code",
   "execution_count": null,
   "metadata": {},
   "outputs": [],
   "source": []
  },
  {
   "cell_type": "code",
   "execution_count": null,
   "metadata": {},
   "outputs": [],
   "source": []
  }
 ],
 "metadata": {
  "kernelspec": {
   "display_name": "Python 3",
   "language": "python",
   "name": "python3"
  },
  "language_info": {
   "codemirror_mode": {
    "name": "ipython",
    "version": 3
   },
   "file_extension": ".py",
   "mimetype": "text/x-python",
   "name": "python",
   "nbconvert_exporter": "python",
   "pygments_lexer": "ipython3",
   "version": "3.6.0"
  }
 },
 "nbformat": 4,
 "nbformat_minor": 2
}
