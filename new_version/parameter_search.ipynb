{
 "cells": [
  {
   "cell_type": "code",
   "execution_count": 1,
   "metadata": {},
   "outputs": [],
   "source": [
    "from base import EnsembleNetwork, \n",
    "from operator import itemgetter\n",
    "import numpy as np\n",
    "import networks\n",
    "import progressbar\n",
    "import time\n"
   ]
  },
  {
   "cell_type": "markdown",
   "metadata": {},
   "source": [
    "AI GRIDSEARCH? THOMSPON SAMPLING? HUH?\n"
   ]
  },
  {
   "cell_type": "code",
   "execution_count": 2,
   "metadata": {},
   "outputs": [],
   "source": [
    "import dataset_creation\n",
    "import tensorflow as tf\n",
    "import matplotlib.pyplot as plt\n",
    "%matplotlib inline\n",
    "plt.rcParams['figure.figsize'] = [20, 5]\n",
    "import pprint\n",
    "pp = pprint.PrettyPrinter(indent=4)"
   ]
  },
  {
   "cell_type": "code",
   "execution_count": 3,
   "metadata": {},
   "outputs": [
    {
     "data": {
      "text/plain": [
       "<matplotlib.collections.PathCollection at 0x1a24ebb198>"
      ]
     },
     "execution_count": 3,
     "metadata": {},
     "output_type": "execute_result"
    },
    {
     "data": {
      "image/png": "[encoded data removed]",
      "text/plain": [
       "<Figure size 1440x360 with 1 Axes>"
      ]
     },
     "metadata": {},
     "output_type": "display_data"
    }
   ],
   "source": [
    "seed = 50\n",
    "ds = dataset_creation.LinearDataset(seed=50)\n",
    "X_train,y_train = ds.train_dataset\n",
    "X_test,y_test = ds.test_dataset\n",
    "plt.scatter(X_train,y_train)\n",
    "plt.scatter(X_test,y_test)"
   ]
  },
  {
   "cell_type": "code",
   "execution_count": 4,
   "metadata": {},
   "outputs": [
    {
     "name": "stderr",
     "output_type": "stream",
     "text": [
      "/Users/thomas/anaconda/envs/tfdeeplearning/lib/python3.6/site-packages/sklearn/cross_validation.py:41: DeprecationWarning: This module was deprecated in version 0.18 in favor of the model_selection module into which all the refactored classes and functions are moved. Also note that the interface of the new CV iterators are different from that of this module. This module will be removed in 0.20.\n",
      "  \"This module will be removed in 0.20.\", DeprecationWarning)\n",
      "/Users/thomas/anaconda/envs/tfdeeplearning/lib/python3.6/site-packages/sklearn/grid_search.py:42: DeprecationWarning: This module was deprecated in version 0.18 in favor of the model_selection module into which all the refactored classes and functions are moved. This module will be removed in 0.20.\n",
      "  DeprecationWarning)\n"
     ]
    },
    {
     "name": "stdout",
     "output_type": "stream",
     "text": [
      "took 36.10267114639282 seconds (0.6017111857732137 minutes)\n",
      "took 37.040807008743286 seconds (0.6173467834790548 minutes)\n",
      "took 34.11129403114319 seconds (0.5685215671857198 minutes)\n",
      "took 33.74622917175293 seconds (0.5624371528625488 minutes)\n",
      "took 39.90951609611511 seconds (0.6651586016019185 minutes)\n",
      "took 41.457125186920166 seconds (0.6909520864486695 minutes)\n",
      "took 33.993139028549194 seconds (0.5665523171424866 minutes)\n",
      "took 34.080058097839355 seconds (0.5680009682973226 minutes)\n",
      "took 34.69913697242737 seconds (0.5783189495404562 minutes)\n",
      "took 34.09720301628113 seconds (0.5682867169380188 minutes)\n",
      "took 34.43063497543335 seconds (0.5738439162572225 minutes)\n",
      "took 34.37523627281189 seconds (0.5729206045468648 minutes)\n",
      "took 33.86175322532654 seconds (0.5643625537554423 minutes)\n",
      "took 33.77628970146179 seconds (0.5629381616910298 minutes)\n",
      "took 33.889472007751465 seconds (0.5648245334625244 minutes)\n",
      "took 34.01689600944519 seconds (0.5669482668240865 minutes)\n",
      "took 34.156733989715576 seconds (0.5692788998285929 minutes)\n",
      "took 33.709733963012695 seconds (0.561828899383545 minutes)\n",
      "took 40.022143840789795 seconds (0.6670357306798299 minutes)\n",
      "took 34.37984776496887 seconds (0.5729974627494812 minutes)\n",
      "took 33.975695848464966 seconds (0.5662615974744161 minutes)\n",
      "took 33.75243902206421 seconds (0.5625406503677368 minutes)\n",
      "took 33.74096608161926 seconds (0.5623494346936544 minutes)\n",
      "took 36.40886092185974 seconds (0.6068143486976624 minutes)\n",
      "took 40.645719051361084 seconds (0.6774286508560181 minutes)\n",
      "took 35.100462913513184 seconds (0.5850077152252198 minutes)\n",
      "took 46.83218812942505 seconds (0.7805364688237508 minutes)\n",
      "took 41.625962018966675 seconds (0.6937660336494446 minutes)\n",
      "took 40.23404788970947 seconds (0.6705674648284912 minutes)\n",
      "took 40.52464509010315 seconds (0.6754107515017191 minutes)\n",
      "took 38.845340728759766 seconds (0.6474223454793294 minutes)\n",
      "took 46.76779079437256 seconds (0.7794631799062093 minutes)\n",
      "took 40.19701933860779 seconds (0.6699503223101299 minutes)\n",
      "took 38.845242977142334 seconds (0.6474207162857055 minutes)\n",
      "took 37.23507905006409 seconds (0.6205846508344014 minutes)\n",
      "took 43.38707709312439 seconds (0.7231179515520731 minutes)\n",
      "took 44.69074511528015 seconds (0.7448457519213358 minutes)\n",
      "took 40.267719984054565 seconds (0.6711286664009094 minutes)\n",
      "took 42.29129719734192 seconds (0.704854953289032 minutes)\n",
      "took 38.30004382133484 seconds (0.638334063688914 minutes)\n",
      "took 35.44713497161865 seconds (0.5907855828603109 minutes)\n",
      "took 36.38541102409363 seconds (0.6064235170682272 minutes)\n",
      "took 38.45259404182434 seconds (0.640876567363739 minutes)\n",
      "took 38.68045687675476 seconds (0.644674281279246 minutes)\n",
      "took 42.27404308319092 seconds (0.7045673847198486 minutes)\n",
      "took 39.02708387374878 seconds (0.650451397895813 minutes)\n",
      "took 38.56249380111694 seconds (0.6427082300186158 minutes)\n",
      "took 35.76690196990967 seconds (0.5961150328318278 minutes)\n",
      "took 35.038368940353394 seconds (0.5839728156725565 minutes)\n",
      "took 33.83060002326965 seconds (0.5638433337211609 minutes)\n",
      "took 34.030306816101074 seconds (0.5671717802683512 minutes)\n",
      "took 34.221845865249634 seconds (0.5703640977541605 minutes)\n",
      "took 34.11295008659363 seconds (0.5685491681098938 minutes)\n",
      "took 34.144707918167114 seconds (0.5690784653027853 minutes)\n",
      "took 49.00944185256958 seconds (0.8168240308761596 minutes)\n",
      "took 47.14612030982971 seconds (0.7857686718304951 minutes)\n",
      "took 48.98072791099548 seconds (0.816345465183258 minutes)\n",
      "took 53.487130880355835 seconds (0.891452181339264 minutes)\n",
      "took 53.45575976371765 seconds (0.8909293293952942 minutes)\n",
      "took 56.25310301780701 seconds (0.9375517169634501 minutes)\n",
      "took 55.891960859298706 seconds (0.9315326809883118 minutes)\n",
      "took 51.999359130859375 seconds (0.8666559855143229 minutes)\n",
      "took 48.40398383140564 seconds (0.8067330638567607 minutes)\n",
      "took 47.20539593696594 seconds (0.7867565989494324 minutes)\n",
      "took 51.71555519104004 seconds (0.8619259198506674 minutes)\n",
      "took 49.17153191566467 seconds (0.8195255319277446 minutes)\n",
      "took 50.62751793861389 seconds (0.8437919656435648 minutes)\n",
      "took 47.609440088272095 seconds (0.7934906681378683 minutes)\n",
      "took 46.33819913864136 seconds (0.7723033189773559 minutes)\n",
      "took 47.091947078704834 seconds (0.7848657846450806 minutes)\n",
      "took 46.562798738479614 seconds (0.7760466456413269 minutes)\n",
      "took 46.43357276916504 seconds (0.773892879486084 minutes)\n",
      "took 47.17990589141846 seconds (0.7863317648569743 minutes)\n",
      "took 46.99363994598389 seconds (0.7832273324330647 minutes)\n",
      "took 46.52089500427246 seconds (0.7753482500712077 minutes)\n",
      "took 46.32048988342285 seconds (0.7720081647237141 minutes)\n",
      "took 46.2080979347229 seconds (0.770134965578715 minutes)\n",
      "took 46.39159393310547 seconds (0.7731932322184245 minutes)\n",
      "took 46.12583875656128 seconds (0.7687639792760214 minutes)\n",
      "took 46.28056287765503 seconds (0.7713427146275839 minutes)\n",
      "took 46.0326988697052 seconds (0.76721164782842 minutes)\n",
      "took 47.85370206832886 seconds (0.7975617011388143 minutes)\n",
      "took 47.82725691795349 seconds (0.7971209486325582 minutes)\n",
      "took 46.71664810180664 seconds (0.7786108016967773 minutes)\n",
      "took 46.583184003829956 seconds (0.7763864000638326 minutes)\n",
      "took 46.5873761177063 seconds (0.7764562686284383 minutes)\n",
      "took 46.21484899520874 seconds (0.770247483253479 minutes)\n",
      "took 46.37939691543579 seconds (0.7729899485905966 minutes)\n",
      "took 46.07305908203125 seconds (0.7678843180338542 minutes)\n",
      "took 46.01649308204651 seconds (0.7669415513674418 minutes)\n",
      "took 46.67855501174927 seconds (0.7779759168624878 minutes)\n",
      "took 46.75024104118347 seconds (0.7791706840197246 minutes)\n",
      "took 46.80217981338501 seconds (0.7800363302230835 minutes)\n",
      "took 46.32783818244934 seconds (0.7721306363741557 minutes)\n",
      "took 46.21922206878662 seconds (0.7703203678131103 minutes)\n",
      "took 46.561830282211304 seconds (0.7760305047035218 minutes)\n",
      "took 46.181995153427124 seconds (0.7696999192237854 minutes)\n",
      "took 45.89526414871216 seconds (0.7649210691452026 minutes)\n",
      "took 45.83917212486267 seconds (0.7639862020810445 minutes)\n",
      "took 46.81408905982971 seconds (0.7802348176638285 minutes)\n",
      "took 47.12507891654968 seconds (0.7854179819424947 minutes)\n",
      "took 47.898154973983765 seconds (0.7983025828997294 minutes)\n",
      "took 46.66654682159424 seconds (0.777775780359904 minutes)\n",
      "took 46.08350372314453 seconds (0.7680583953857422 minutes)\n",
      "took 46.62602877616882 seconds (0.7771004796028137 minutes)\n",
      "took 45.919273138046265 seconds (0.7653212189674378 minutes)\n",
      "took 46.259318828582764 seconds (0.770988647143046 minutes)\n",
      "took 47.31705117225647 seconds (0.7886175195376078 minutes)\n",
      "took 34.42473220825195 seconds (0.5737455368041993 minutes)\n",
      "took 34.67148423194885 seconds (0.5778580705324808 minutes)\n",
      "took 36.02210783958435 seconds (0.6003684639930725 minutes)\n",
      "took 34.06539011001587 seconds (0.5677565018335978 minutes)\n",
      "took 33.999778032302856 seconds (0.5666629672050476 minutes)\n",
      "took 33.77070689201355 seconds (0.5628451148668925 minutes)\n",
      "took 34.25465202331543 seconds (0.5709108670552572 minutes)\n",
      "took 33.96867609024048 seconds (0.566144601504008 minutes)\n",
      "took 33.924559116363525 seconds (0.5654093186060588 minutes)\n",
      "took 34.5748291015625 seconds (0.5762471516927083 minutes)\n",
      "took 34.16360807418823 seconds (0.5693934679031372 minutes)\n",
      "took 34.08973574638367 seconds (0.5681622624397278 minutes)\n",
      "took 33.83426117897034 seconds (0.5639043529828389 minutes)\n",
      "took 33.98579025268555 seconds (0.5664298375447591 minutes)\n",
      "took 33.78444218635559 seconds (0.5630740364392598 minutes)\n",
      "took 34.165278911590576 seconds (0.5694213151931763 minutes)\n",
      "took 35.39251494407654 seconds (0.5898752490679423 minutes)\n",
      "took 34.23888611793518 seconds (0.5706481019655864 minutes)\n",
      "took 34.495819091796875 seconds (0.5749303181966146 minutes)\n",
      "took 33.98882699012756 seconds (0.5664804498354594 minutes)\n",
      "took 34.044342041015625 seconds (0.5674057006835938 minutes)\n",
      "took 33.861674785614014 seconds (0.5643612464269002 minutes)\n",
      "took 33.926769971847534 seconds (0.5654461661974589 minutes)\n",
      "took 33.967962980270386 seconds (0.5661327163378398 minutes)\n",
      "took 34.13737201690674 seconds (0.568956200281779 minutes)\n",
      "took 33.9381639957428 seconds (0.5656360665957133 minutes)\n",
      "took 33.857982873916626 seconds (0.564299714565277 minutes)\n",
      "took 34.112760066986084 seconds (0.5685460011164347 minutes)\n",
      "took 34.117432832717896 seconds (0.5686238805452982 minutes)\n",
      "took 34.3738648891449 seconds (0.572897748152415 minutes)\n",
      "took 33.6757709980011 seconds (0.561262849966685 minutes)\n",
      "took 33.92210102081299 seconds (0.5653683503468832 minutes)\n",
      "took 33.99177813529968 seconds (0.566529635588328 minutes)\n",
      "took 34.04187202453613 seconds (0.5673645337422689 minutes)\n",
      "took 34.082329988479614 seconds (0.5680388331413269 minutes)\n",
      "took 34.79982781410217 seconds (0.5799971302350362 minutes)\n",
      "took 34.15325975418091 seconds (0.5692209959030151 minutes)\n",
      "took 34.25118803977966 seconds (0.5708531339963278 minutes)\n",
      "took 34.38003611564636 seconds (0.5730006019274394 minutes)\n",
      "took 34.04982113838196 seconds (0.5674970189730326 minutes)\n",
      "took 33.84910607337952 seconds (0.5641517678896586 minutes)\n",
      "took 33.93909406661987 seconds (0.5656515677769979 minutes)\n",
      "took 34.45600414276123 seconds (0.5742667357126872 minutes)\n",
      "took 35.18654417991638 seconds (0.5864424029986064 minutes)\n",
      "took 34.250389099121094 seconds (0.5708398183186849 minutes)\n",
      "took 34.294074058532715 seconds (0.5715679009755452 minutes)\n",
      "took 34.14366888999939 seconds (0.5690611481666565 minutes)\n",
      "took 34.31720805168152 seconds (0.5719534675280253 minutes)\n",
      "took 33.94943618774414 seconds (0.5658239364624024 minutes)\n",
      "took 34.76817297935486 seconds (0.5794695496559144 minutes)\n",
      "took 33.86116981506348 seconds (0.564352830251058 minutes)\n",
      "took 34.09438109397888 seconds (0.568239684899648 minutes)\n",
      "took 34.2614209651947 seconds (0.571023682753245 minutes)\n",
      "took 34.20807504653931 seconds (0.5701345841089884 minutes)\n",
      "{   'params': {   'activations': [   <function tanh at 0x11f7257b8>,\n",
      "                                     <function tanh at 0x11f7257b8>,\n",
      "                                     <function tanh at 0x11f7257b8>],\n",
      "                  'initialisation_scheme': <function he_normal at 0x120101950>,\n",
      "                  'learning_rate': 0.001,\n",
      "                  'num_neurons': [10, 10, 10],\n",
      "                  'seed': 100},\n",
      "    'score': 0.07125216765545966,\n",
      "    'var': 1.4554169226196824e-05}\n",
      "{   'params': {   'activations': [   <function leaky_relu at 0x11fcedd08>,\n",
      "                                     <function leaky_relu at 0x11fcedd08>,\n",
      "                                     <function leaky_relu at 0x11fcedd08>],\n",
      "                  'initialisation_scheme': <function he_normal at 0x120101950>,\n",
      "                  'learning_rate': 0.1,\n",
      "                  'num_neurons': [10, 10, 10],\n",
      "                  'seed': 100},\n",
      "    'score': 19.185279671779337,\n",
      "    'var': 1369.6993842194338}\n"
     ]
    }
   ],
   "source": [
    "from sklearn.grid_search import ParameterGrid\n",
    "\n",
    "trials = 10\n",
    "\n",
    "num_neurons = [[2,3,2],[10,10,10],[1,1,1]]\n",
    "seeds = [50,100,150]\n",
    "num_layers = len(num_neurons[0])\n",
    "learning_rates = [0.1,0.01,0.001]\n",
    "activations = [[tf.nn.tanh]*num_layers,[tf.nn.leaky_relu]*num_layers, [tf.sigmoid]*num_layers]\n",
    "initialisation_schemes = [tf.keras.initializers.he_normal, tf.contrib.layers.xavier_initializer] \n",
    "param_grid = {'num_neurons': num_neurons,\n",
    "              'activations':activations,\n",
    "             'initialisation_scheme':initialisation_schemes,\n",
    "             'learning_rate':learning_rates,\n",
    "             'seed':seeds,\n",
    "             'l2':[True,False]}\n",
    "             \n",
    "\n",
    "grid = ParameterGrid(param_grid)\n",
    "score_listvanilla = []\n",
    "\n",
    "#for i in progressbar.progressbar(range(100)):\n",
    "\n",
    "for params in grid:\n",
    "    start_time = time.time()\n",
    "    scores = []\n",
    "    for i in range(trials):\n",
    "        net = EnsembleNetwork(**params)\n",
    "        net.fit(X_train,y_train)\n",
    "        scores.append(net.score(X_test,y_test))\n",
    "    score = np.mean(scores)\n",
    "    var = np.var(scores)\n",
    "    score_listvanilla.append({'params':params,\n",
    "                      'score':score,\n",
    "                      'var':var})\n",
    "    end_time = time.time()\n",
    "    print('took {} seconds ({} minutes)'.format(end_time-start_time,(end_time-start_time)/60))\n",
    "    \n",
    "score_listvanilla = sorted(score_listvanilla, key=itemgetter('score'), reverse=False)\n",
    "pp.pprint(score_listvanilla[0])\n",
    "pp.pprint(score_listvanilla[-1])\n",
    "#plt.plot(scores)"
   ]
  },
  {
   "cell_type": "code",
   "execution_count": 13,
   "metadata": {},
   "outputs": [
    {
     "data": {
      "text/plain": [
       "[<matplotlib.lines.Line2D at 0x1a27528da0>]"
      ]
     },
     "execution_count": 13,
     "metadata": {},
     "output_type": "execute_result"
    },
    {
     "data": {
      "image/png": "[encoded data removed]",
      "text/plain": [
       "<Figure size 1440x360 with 1 Axes>"
      ]
     },
     "metadata": {},
     "output_type": "display_data"
    }
   ],
   "source": [
    "scores = [x['score'] for x in score_listvanilla]\n",
    "plt.plot(scores)"
   ]
  },
  {
   "cell_type": "code",
   "execution_count": null,
   "metadata": {},
   "outputs": [],
   "source": [
    "len(grid)"
   ]
  },
  {
   "cell_type": "code",
   "execution_count": 5,
   "metadata": {},
   "outputs": [
    {
     "name": "stdout",
     "output_type": "stream",
     "text": [
      "{   'params': {   'activations': [   <function leaky_relu at 0x11fcedd08>,\n",
      "                                     <function leaky_relu at 0x11fcedd08>,\n",
      "                                     <function leaky_relu at 0x11fcedd08>],\n",
      "                  'initialisation_scheme': <function xavier_initializer at 0x1a25821400>,\n",
      "                  'learning_rate': 0.001,\n",
      "                  'num_neurons': [10, 10, 10],\n",
      "                  'seed': 100},\n",
      "    'score': 0.0882077880301202,\n",
      "    'var': 2.441656843781423e-05}\n",
      "{   'params': {   'activations': [   <function leaky_relu at 0x11fcedd08>,\n",
      "                                     <function leaky_relu at 0x11fcedd08>,\n",
      "                                     <function leaky_relu at 0x11fcedd08>],\n",
      "                  'initialisation_scheme': <function xavier_initializer at 0x1a25821400>,\n",
      "                  'learning_rate': 0.1,\n",
      "                  'num_neurons': [10, 10, 10],\n",
      "                  'seed': 50},\n",
      "    'score': 22.251102888729683,\n",
      "    'var': 2736.2107487257895}\n"
     ]
    }
   ],
   "source": [
    "from sklearn.grid_search import ParameterGrid\n",
    "\n",
    "\n",
    "\n",
    "\n",
    "grid = ParameterGrid(param_grid)\n",
    "score_listdropout = []\n",
    "for params in grid:\n",
    "    scores = []\n",
    "    for i in range(trials):\n",
    "        net = networks.DropoutNetwork(**params)\n",
    "        net.fit(X_train,y_train)\n",
    "        scores.append(net.score(X_test,y_test))\n",
    "    score = np.mean(scores)\n",
    "    var = np.var(scores)\n",
    "    score_listdropout.append({'params':params,\n",
    "                      'score':score,\n",
    "                      'var':var})\n",
    "    \n",
    "score_listdropout = sorted(score_listdropout, key=itemgetter('score'), reverse=False)\n",
    "pp.pprint(score_listdropout[0])\n",
    "pp.pprint(score_listdropout[-1])\n"
   ]
  },
  {
   "cell_type": "code",
   "execution_count": 12,
   "metadata": {},
   "outputs": [
    {
     "data": {
      "text/plain": [
       "[<matplotlib.lines.Line2D at 0x1a27573da0>]"
      ]
     },
     "execution_count": 12,
     "metadata": {},
     "output_type": "execute_result"
    },
    {
     "data": {
      "image/png": "[encoded data removed]",
      "text/plain": [
       "<Figure size 1440x360 with 1 Axes>"
      ]
     },
     "metadata": {},
     "output_type": "display_data"
    }
   ],
   "source": [
    "scores = [x['score'] for x in score_listdropout]\n",
    "plt.plot(scores)"
   ]
  },
  {
   "cell_type": "code",
   "execution_count": 15,
   "metadata": {},
   "outputs": [
    {
     "data": {
      "text/plain": [
       "<module 'ensembles' from '/Users/thomas/Documents/Master-Thesis/new_version/ensembles.py'>"
      ]
     },
     "execution_count": 15,
     "metadata": {},
     "output_type": "execute_result"
    }
   ],
   "source": [
    "import ensembles\n",
    "import importlib\n",
    "importlib.reload(ensembles)"
   ]
  },
  {
   "cell_type": "code",
   "execution_count": 16,
   "metadata": {},
   "outputs": [
    {
     "ename": "KeyboardInterrupt",
     "evalue": "",
     "output_type": "error",
     "traceback": [
      "\u001b[0;31m---------------------------------------------------------------------------\u001b[0m",
      "\u001b[0;31mKeyboardInterrupt\u001b[0m                         Traceback (most recent call last)",
      "\u001b[0;32m<ipython-input-16-df7f0696b433>\u001b[0m in \u001b[0;36m<module>\u001b[0;34m()\u001b[0m\n\u001b[1;32m      8\u001b[0m     \u001b[0;32mfor\u001b[0m \u001b[0mi\u001b[0m \u001b[0;32min\u001b[0m \u001b[0mrange\u001b[0m\u001b[0;34m(\u001b[0m\u001b[0mtrials\u001b[0m\u001b[0;34m)\u001b[0m\u001b[0;34m:\u001b[0m\u001b[0;34m\u001b[0m\u001b[0m\n\u001b[1;32m      9\u001b[0m         \u001b[0mnet\u001b[0m \u001b[0;34m=\u001b[0m \u001b[0mensembles\u001b[0m\u001b[0;34m.\u001b[0m\u001b[0mBootstrapEnsemble\u001b[0m\u001b[0;34m(\u001b[0m\u001b[0;34m**\u001b[0m\u001b[0mparams\u001b[0m\u001b[0;34m)\u001b[0m\u001b[0;34m\u001b[0m\u001b[0m\n\u001b[0;32m---> 10\u001b[0;31m         \u001b[0mnet\u001b[0m\u001b[0;34m.\u001b[0m\u001b[0mfit\u001b[0m\u001b[0;34m(\u001b[0m\u001b[0mX_train\u001b[0m\u001b[0;34m,\u001b[0m\u001b[0my_train\u001b[0m\u001b[0;34m)\u001b[0m\u001b[0;34m\u001b[0m\u001b[0m\n\u001b[0m\u001b[1;32m     11\u001b[0m         \u001b[0mscores\u001b[0m\u001b[0;34m.\u001b[0m\u001b[0mappend\u001b[0m\u001b[0;34m(\u001b[0m\u001b[0mnet\u001b[0m\u001b[0;34m.\u001b[0m\u001b[0mscore\u001b[0m\u001b[0;34m(\u001b[0m\u001b[0mX_test\u001b[0m\u001b[0;34m,\u001b[0m\u001b[0my_test\u001b[0m\u001b[0;34m)\u001b[0m\u001b[0;34m)\u001b[0m\u001b[0;34m\u001b[0m\u001b[0m\n\u001b[1;32m     12\u001b[0m     \u001b[0mscore\u001b[0m \u001b[0;34m=\u001b[0m \u001b[0mnp\u001b[0m\u001b[0;34m.\u001b[0m\u001b[0mmean\u001b[0m\u001b[0;34m(\u001b[0m\u001b[0mscores\u001b[0m\u001b[0;34m)\u001b[0m\u001b[0;34m\u001b[0m\u001b[0m\n",
      "\u001b[0;32m~/Documents/Master-Thesis/new_version/ensembles.py\u001b[0m in \u001b[0;36mfit\u001b[0;34m(self, X, y)\u001b[0m\n\u001b[1;32m    124\u001b[0m         \u001b[0;31m#for i in range(self.num_epochs):\u001b[0m\u001b[0;34m\u001b[0m\u001b[0;34m\u001b[0m\u001b[0m\n\u001b[1;32m    125\u001b[0m \u001b[0;34m\u001b[0m\u001b[0m\n\u001b[0;32m--> 126\u001b[0;31m         \u001b[0msuper\u001b[0m\u001b[0;34m(\u001b[0m\u001b[0mBootstrapEnsemble\u001b[0m\u001b[0;34m,\u001b[0m \u001b[0mself\u001b[0m\u001b[0;34m)\u001b[0m\u001b[0;34m.\u001b[0m\u001b[0mfit\u001b[0m\u001b[0;34m(\u001b[0m\u001b[0mX\u001b[0m\u001b[0;34m,\u001b[0m \u001b[0my\u001b[0m\u001b[0;34m,\u001b[0m \u001b[0;32mTrue\u001b[0m\u001b[0;34m)\u001b[0m\u001b[0;34m\u001b[0m\u001b[0m\n\u001b[0m\u001b[1;32m    127\u001b[0m \u001b[0;34m\u001b[0m\u001b[0m\n\u001b[1;32m    128\u001b[0m \u001b[0;34m\u001b[0m\u001b[0m\n",
      "\u001b[0;32m~/Documents/Master-Thesis/new_version/ensembles.py\u001b[0m in \u001b[0;36mfit\u001b[0;34m(self, X, y, bootstrap)\u001b[0m\n\u001b[1;32m     41\u001b[0m             \u001b[0;32mif\u001b[0m \u001b[0mbootstrap\u001b[0m\u001b[0;34m:\u001b[0m\u001b[0;34m\u001b[0m\u001b[0m\n\u001b[1;32m     42\u001b[0m                 \u001b[0mX_est\u001b[0m\u001b[0;34m,\u001b[0m \u001b[0my_est\u001b[0m\u001b[0;34m,\u001b[0m \u001b[0m_\u001b[0m \u001b[0;34m=\u001b[0m \u001b[0mestimator\u001b[0m\u001b[0;34m.\u001b[0m\u001b[0mshuffle_data\u001b[0m\u001b[0;34m(\u001b[0m\u001b[0mX\u001b[0m\u001b[0;34m,\u001b[0m \u001b[0my\u001b[0m\u001b[0;34m)\u001b[0m\u001b[0;34m\u001b[0m\u001b[0m\n\u001b[0;32m---> 43\u001b[0;31m                 \u001b[0mestimator\u001b[0m\u001b[0;34m.\u001b[0m\u001b[0mfit\u001b[0m\u001b[0;34m(\u001b[0m\u001b[0mX_est\u001b[0m\u001b[0;34m,\u001b[0m \u001b[0my_est\u001b[0m\u001b[0;34m)\u001b[0m\u001b[0;34m\u001b[0m\u001b[0m\n\u001b[0m\u001b[1;32m     44\u001b[0m \u001b[0;34m\u001b[0m\u001b[0m\n\u001b[1;32m     45\u001b[0m             \u001b[0;32melse\u001b[0m\u001b[0;34m:\u001b[0m\u001b[0;34m\u001b[0m\u001b[0m\n",
      "\u001b[0;32m~/Documents/Master-Thesis/new_version/base.py\u001b[0m in \u001b[0;36mfit\u001b[0;34m(self, X, y, shuffle, online)\u001b[0m\n\u001b[1;32m    234\u001b[0m                 \u001b[0mX\u001b[0m \u001b[0;34m=\u001b[0m \u001b[0mself\u001b[0m\u001b[0;34m.\u001b[0m\u001b[0mcheck_input_dimensions\u001b[0m\u001b[0;34m(\u001b[0m\u001b[0mX\u001b[0m\u001b[0;34m)\u001b[0m\u001b[0;34m\u001b[0m\u001b[0m\n\u001b[1;32m    235\u001b[0m                 \u001b[0my\u001b[0m \u001b[0;34m=\u001b[0m \u001b[0mself\u001b[0m\u001b[0;34m.\u001b[0m\u001b[0mcheck_input_dimensions\u001b[0m\u001b[0;34m(\u001b[0m\u001b[0my\u001b[0m\u001b[0;34m)\u001b[0m\u001b[0;34m\u001b[0m\u001b[0m\n\u001b[0;32m--> 236\u001b[0;31m                 \u001b[0mself\u001b[0m\u001b[0;34m.\u001b[0m\u001b[0mtrain_one_epoch\u001b[0m\u001b[0;34m(\u001b[0m\u001b[0mX\u001b[0m\u001b[0;34m,\u001b[0m \u001b[0my\u001b[0m\u001b[0;34m,\u001b[0m \u001b[0mshuffle\u001b[0m\u001b[0;34m)\u001b[0m\u001b[0;34m\u001b[0m\u001b[0m\n\u001b[0m\u001b[1;32m    237\u001b[0m         \u001b[0;32melse\u001b[0m\u001b[0;34m:\u001b[0m\u001b[0;34m\u001b[0m\u001b[0m\n\u001b[1;32m    238\u001b[0m             \u001b[0mX\u001b[0m\u001b[0;34m,\u001b[0m \u001b[0my\u001b[0m\u001b[0;34m,\u001b[0m \u001b[0m_\u001b[0m \u001b[0;34m=\u001b[0m \u001b[0mself\u001b[0m\u001b[0;34m.\u001b[0m\u001b[0mshuffle_data\u001b[0m\u001b[0;34m(\u001b[0m\u001b[0mX\u001b[0m\u001b[0;34m,\u001b[0m \u001b[0my\u001b[0m\u001b[0;34m)\u001b[0m\u001b[0;34m\u001b[0m\u001b[0m\n",
      "\u001b[0;32m~/Documents/Master-Thesis/new_version/base.py\u001b[0m in \u001b[0;36mtrain_one_epoch\u001b[0;34m(self, epoch_X, epoch_y, shuffle)\u001b[0m\n\u001b[1;32m    250\u001b[0m         \u001b[0mepoch_y\u001b[0m \u001b[0;34m=\u001b[0m \u001b[0mself\u001b[0m\u001b[0;34m.\u001b[0m\u001b[0mcheck_input_dimensions\u001b[0m\u001b[0;34m(\u001b[0m\u001b[0mepoch_y\u001b[0m\u001b[0;34m)\u001b[0m\u001b[0;34m\u001b[0m\u001b[0m\n\u001b[1;32m    251\u001b[0m         \u001b[0;32mfor\u001b[0m \u001b[0mbatch_X\u001b[0m\u001b[0;34m,\u001b[0m \u001b[0mbatch_y\u001b[0m \u001b[0;32min\u001b[0m \u001b[0mzip\u001b[0m\u001b[0;34m(\u001b[0m\u001b[0mepoch_X\u001b[0m\u001b[0;34m,\u001b[0m \u001b[0mepoch_y\u001b[0m\u001b[0;34m)\u001b[0m\u001b[0;34m:\u001b[0m\u001b[0;34m\u001b[0m\u001b[0m\n\u001b[0;32m--> 252\u001b[0;31m             \u001b[0mself\u001b[0m\u001b[0;34m.\u001b[0m\u001b[0mtrain_one\u001b[0m\u001b[0;34m(\u001b[0m\u001b[0mbatch_X\u001b[0m\u001b[0;34m,\u001b[0m \u001b[0mbatch_y\u001b[0m\u001b[0;34m)\u001b[0m\u001b[0;34m\u001b[0m\u001b[0m\n\u001b[0m\u001b[1;32m    253\u001b[0m             \u001b[0;32mif\u001b[0m \u001b[0mself\u001b[0m\u001b[0;34m.\u001b[0m\u001b[0madversarial\u001b[0m\u001b[0;34m:\u001b[0m\u001b[0;34m\u001b[0m\u001b[0m\n\u001b[1;32m    254\u001b[0m                 \u001b[0mself\u001b[0m\u001b[0;34m.\u001b[0m\u001b[0mtrain_one\u001b[0m\u001b[0;34m(\u001b[0m\u001b[0mbatch_X\u001b[0m \u001b[0;34m+\u001b[0m \u001b[0;36m0.05\u001b[0m\u001b[0;34m,\u001b[0m \u001b[0mbatch_y\u001b[0m\u001b[0;34m)\u001b[0m\u001b[0;34m\u001b[0m\u001b[0m\n",
      "\u001b[0;32m~/Documents/Master-Thesis/new_version/base.py\u001b[0m in \u001b[0;36mtrain_one\u001b[0;34m(self, batch_X, batch_y)\u001b[0m\n\u001b[1;32m    262\u001b[0m         self.session.run(self.train_graph,\n\u001b[1;32m    263\u001b[0m                          feed_dict={self.X: batch_X,\n\u001b[0;32m--> 264\u001b[0;31m                                     self.y: batch_y})\n\u001b[0m\u001b[1;32m    265\u001b[0m \u001b[0;34m\u001b[0m\u001b[0m\n\u001b[1;32m    266\u001b[0m     \u001b[0;32mdef\u001b[0m \u001b[0mtrain_and_evaluate\u001b[0m\u001b[0;34m(\u001b[0m\u001b[0mself\u001b[0m\u001b[0;34m,\u001b[0m \u001b[0mX\u001b[0m\u001b[0;34m,\u001b[0m \u001b[0my\u001b[0m\u001b[0;34m,\u001b[0m \u001b[0mshuffle\u001b[0m\u001b[0;34m=\u001b[0m\u001b[0;32mFalse\u001b[0m\u001b[0;34m)\u001b[0m\u001b[0;34m:\u001b[0m\u001b[0;34m\u001b[0m\u001b[0m\n",
      "\u001b[0;32m~/anaconda/envs/tfdeeplearning/lib/python3.6/site-packages/tensorflow/python/client/session.py\u001b[0m in \u001b[0;36mrun\u001b[0;34m(self, fetches, feed_dict, options, run_metadata)\u001b[0m\n\u001b[1;32m    898\u001b[0m     \u001b[0;32mtry\u001b[0m\u001b[0;34m:\u001b[0m\u001b[0;34m\u001b[0m\u001b[0m\n\u001b[1;32m    899\u001b[0m       result = self._run(None, fetches, feed_dict, options_ptr,\n\u001b[0;32m--> 900\u001b[0;31m                          run_metadata_ptr)\n\u001b[0m\u001b[1;32m    901\u001b[0m       \u001b[0;32mif\u001b[0m \u001b[0mrun_metadata\u001b[0m\u001b[0;34m:\u001b[0m\u001b[0;34m\u001b[0m\u001b[0m\n\u001b[1;32m    902\u001b[0m         \u001b[0mproto_data\u001b[0m \u001b[0;34m=\u001b[0m \u001b[0mtf_session\u001b[0m\u001b[0;34m.\u001b[0m\u001b[0mTF_GetBuffer\u001b[0m\u001b[0;34m(\u001b[0m\u001b[0mrun_metadata_ptr\u001b[0m\u001b[0;34m)\u001b[0m\u001b[0;34m\u001b[0m\u001b[0m\n",
      "\u001b[0;32m~/anaconda/envs/tfdeeplearning/lib/python3.6/site-packages/tensorflow/python/client/session.py\u001b[0m in \u001b[0;36m_run\u001b[0;34m(self, handle, fetches, feed_dict, options, run_metadata)\u001b[0m\n\u001b[1;32m   1133\u001b[0m     \u001b[0;32mif\u001b[0m \u001b[0mfinal_fetches\u001b[0m \u001b[0;32mor\u001b[0m \u001b[0mfinal_targets\u001b[0m \u001b[0;32mor\u001b[0m \u001b[0;34m(\u001b[0m\u001b[0mhandle\u001b[0m \u001b[0;32mand\u001b[0m \u001b[0mfeed_dict_tensor\u001b[0m\u001b[0;34m)\u001b[0m\u001b[0;34m:\u001b[0m\u001b[0;34m\u001b[0m\u001b[0m\n\u001b[1;32m   1134\u001b[0m       results = self._do_run(handle, final_targets, final_fetches,\n\u001b[0;32m-> 1135\u001b[0;31m                              feed_dict_tensor, options, run_metadata)\n\u001b[0m\u001b[1;32m   1136\u001b[0m     \u001b[0;32melse\u001b[0m\u001b[0;34m:\u001b[0m\u001b[0;34m\u001b[0m\u001b[0m\n\u001b[1;32m   1137\u001b[0m       \u001b[0mresults\u001b[0m \u001b[0;34m=\u001b[0m \u001b[0;34m[\u001b[0m\u001b[0;34m]\u001b[0m\u001b[0;34m\u001b[0m\u001b[0m\n",
      "\u001b[0;32m~/anaconda/envs/tfdeeplearning/lib/python3.6/site-packages/tensorflow/python/client/session.py\u001b[0m in \u001b[0;36m_do_run\u001b[0;34m(self, handle, target_list, fetch_list, feed_dict, options, run_metadata)\u001b[0m\n\u001b[1;32m   1314\u001b[0m     \u001b[0;32mif\u001b[0m \u001b[0mhandle\u001b[0m \u001b[0;32mis\u001b[0m \u001b[0;32mNone\u001b[0m\u001b[0;34m:\u001b[0m\u001b[0;34m\u001b[0m\u001b[0m\n\u001b[1;32m   1315\u001b[0m       return self._do_call(_run_fn, feeds, fetches, targets, options,\n\u001b[0;32m-> 1316\u001b[0;31m                            run_metadata)\n\u001b[0m\u001b[1;32m   1317\u001b[0m     \u001b[0;32melse\u001b[0m\u001b[0;34m:\u001b[0m\u001b[0;34m\u001b[0m\u001b[0m\n\u001b[1;32m   1318\u001b[0m       \u001b[0;32mreturn\u001b[0m \u001b[0mself\u001b[0m\u001b[0;34m.\u001b[0m\u001b[0m_do_call\u001b[0m\u001b[0;34m(\u001b[0m\u001b[0m_prun_fn\u001b[0m\u001b[0;34m,\u001b[0m \u001b[0mhandle\u001b[0m\u001b[0;34m,\u001b[0m \u001b[0mfeeds\u001b[0m\u001b[0;34m,\u001b[0m \u001b[0mfetches\u001b[0m\u001b[0;34m)\u001b[0m\u001b[0;34m\u001b[0m\u001b[0m\n",
      "\u001b[0;32m~/anaconda/envs/tfdeeplearning/lib/python3.6/site-packages/tensorflow/python/client/session.py\u001b[0m in \u001b[0;36m_do_call\u001b[0;34m(self, fn, *args)\u001b[0m\n\u001b[1;32m   1320\u001b[0m   \u001b[0;32mdef\u001b[0m \u001b[0m_do_call\u001b[0m\u001b[0;34m(\u001b[0m\u001b[0mself\u001b[0m\u001b[0;34m,\u001b[0m \u001b[0mfn\u001b[0m\u001b[0;34m,\u001b[0m \u001b[0;34m*\u001b[0m\u001b[0margs\u001b[0m\u001b[0;34m)\u001b[0m\u001b[0;34m:\u001b[0m\u001b[0;34m\u001b[0m\u001b[0m\n\u001b[1;32m   1321\u001b[0m     \u001b[0;32mtry\u001b[0m\u001b[0;34m:\u001b[0m\u001b[0;34m\u001b[0m\u001b[0m\n\u001b[0;32m-> 1322\u001b[0;31m       \u001b[0;32mreturn\u001b[0m \u001b[0mfn\u001b[0m\u001b[0;34m(\u001b[0m\u001b[0;34m*\u001b[0m\u001b[0margs\u001b[0m\u001b[0;34m)\u001b[0m\u001b[0;34m\u001b[0m\u001b[0m\n\u001b[0m\u001b[1;32m   1323\u001b[0m     \u001b[0;32mexcept\u001b[0m \u001b[0merrors\u001b[0m\u001b[0;34m.\u001b[0m\u001b[0mOpError\u001b[0m \u001b[0;32mas\u001b[0m \u001b[0me\u001b[0m\u001b[0;34m:\u001b[0m\u001b[0;34m\u001b[0m\u001b[0m\n\u001b[1;32m   1324\u001b[0m       \u001b[0mmessage\u001b[0m \u001b[0;34m=\u001b[0m \u001b[0mcompat\u001b[0m\u001b[0;34m.\u001b[0m\u001b[0mas_text\u001b[0m\u001b[0;34m(\u001b[0m\u001b[0me\u001b[0m\u001b[0;34m.\u001b[0m\u001b[0mmessage\u001b[0m\u001b[0;34m)\u001b[0m\u001b[0;34m\u001b[0m\u001b[0m\n",
      "\u001b[0;32m~/anaconda/envs/tfdeeplearning/lib/python3.6/site-packages/tensorflow/python/client/session.py\u001b[0m in \u001b[0;36m_run_fn\u001b[0;34m(feed_dict, fetch_list, target_list, options, run_metadata)\u001b[0m\n\u001b[1;32m   1305\u001b[0m       \u001b[0mself\u001b[0m\u001b[0;34m.\u001b[0m\u001b[0m_extend_graph\u001b[0m\u001b[0;34m(\u001b[0m\u001b[0;34m)\u001b[0m\u001b[0;34m\u001b[0m\u001b[0m\n\u001b[1;32m   1306\u001b[0m       return self._call_tf_sessionrun(\n\u001b[0;32m-> 1307\u001b[0;31m           options, feed_dict, fetch_list, target_list, run_metadata)\n\u001b[0m\u001b[1;32m   1308\u001b[0m \u001b[0;34m\u001b[0m\u001b[0m\n\u001b[1;32m   1309\u001b[0m     \u001b[0;32mdef\u001b[0m \u001b[0m_prun_fn\u001b[0m\u001b[0;34m(\u001b[0m\u001b[0mhandle\u001b[0m\u001b[0;34m,\u001b[0m \u001b[0mfeed_dict\u001b[0m\u001b[0;34m,\u001b[0m \u001b[0mfetch_list\u001b[0m\u001b[0;34m)\u001b[0m\u001b[0;34m:\u001b[0m\u001b[0;34m\u001b[0m\u001b[0m\n",
      "\u001b[0;32m~/anaconda/envs/tfdeeplearning/lib/python3.6/site-packages/tensorflow/python/client/session.py\u001b[0m in \u001b[0;36m_call_tf_sessionrun\u001b[0;34m(self, options, feed_dict, fetch_list, target_list, run_metadata)\u001b[0m\n\u001b[1;32m   1407\u001b[0m       return tf_session.TF_SessionRun_wrapper(\n\u001b[1;32m   1408\u001b[0m           \u001b[0mself\u001b[0m\u001b[0;34m.\u001b[0m\u001b[0m_session\u001b[0m\u001b[0;34m,\u001b[0m \u001b[0moptions\u001b[0m\u001b[0;34m,\u001b[0m \u001b[0mfeed_dict\u001b[0m\u001b[0;34m,\u001b[0m \u001b[0mfetch_list\u001b[0m\u001b[0;34m,\u001b[0m \u001b[0mtarget_list\u001b[0m\u001b[0;34m,\u001b[0m\u001b[0;34m\u001b[0m\u001b[0m\n\u001b[0;32m-> 1409\u001b[0;31m           run_metadata)\n\u001b[0m\u001b[1;32m   1410\u001b[0m     \u001b[0;32melse\u001b[0m\u001b[0;34m:\u001b[0m\u001b[0;34m\u001b[0m\u001b[0m\n\u001b[1;32m   1411\u001b[0m       \u001b[0;32mwith\u001b[0m \u001b[0merrors\u001b[0m\u001b[0;34m.\u001b[0m\u001b[0mraise_exception_on_not_ok_status\u001b[0m\u001b[0;34m(\u001b[0m\u001b[0;34m)\u001b[0m \u001b[0;32mas\u001b[0m \u001b[0mstatus\u001b[0m\u001b[0;34m:\u001b[0m\u001b[0;34m\u001b[0m\u001b[0m\n",
      "\u001b[0;31mKeyboardInterrupt\u001b[0m: "
     ]
    }
   ],
   "source": [
    "from sklearn.grid_search import ParameterGrid\n",
    "\n",
    "\n",
    "grid = ParameterGrid(param_grid)\n",
    "score_list_boot = []\n",
    "for params in grid:\n",
    "    scores = []\n",
    "    for i in range(trials):\n",
    "        net = ensembles.BootstrapEnsemble(**params)\n",
    "        net.fit(X_train,y_train)\n",
    "        scores.append(net.score(X_test,y_test))\n",
    "    score = np.mean(scores)\n",
    "    var = np.var(scores)\n",
    "    score_list_boot.append({'params':params,\n",
    "                      'score':score,\n",
    "                      'var':var})\n",
    "    \n",
    "score_list_boot = sorted(score_list, key=itemgetter('score'), reverse=False)\n",
    "pp.pprint(score_list_boot[0])\n",
    "pp.pprint(score_list_boot[-1])\n",
    "#plt.plot(scores)"
   ]
  },
  {
   "cell_type": "code",
   "execution_count": 43,
   "metadata": {},
   "outputs": [
    {
     "data": {
      "text/plain": [
       "<module 'evaluation' from '/Users/thomas/Documents/Master-Thesis/new_version/evaluation.py'>"
      ]
     },
     "execution_count": 43,
     "metadata": {},
     "output_type": "execute_result"
    }
   ],
   "source": [
    "import evaluation\n",
    "importlib.reload(evaluation)"
   ]
  },
  {
   "cell_type": "code",
   "execution_count": 44,
   "metadata": {},
   "outputs": [
    {
     "name": "stdout",
     "output_type": "stream",
     "text": [
      "experiment started at 2018-08-09 21:44:13.799380\n",
      "took 47.62192702293396 seconds (0.793698783715566 minutes) to do 9 out of 162. Overall, estimated time is: 728.6154834508895 minutes\n",
      "took 60.17607808113098 seconds (1.0029346346855164 minutes) to do 9 out of 162. Overall, estimated time is: 824.6547390460968 minutes\n",
      "took 52.721914768218994 seconds (0.8786985794703166 minutes) to do 9 out of 162. Overall, estimated time is: 818.651591348648 minutes\n",
      "took 47.7198121547699 seconds (0.7953302025794983 minutes) to do 9 out of 162. Overall, estimated time is: 796.5169750034809 minutes\n",
      "took 47.531845808029175 seconds (0.7921974301338196 minutes) to do 9 out of 162. Overall, estimated time is: 782.661028175354 minutes\n",
      "took 46.900392055511475 seconds (0.7816732009251912 minutes) to do 9 out of 162. Overall, estimated time is: 771.8135232210159 minutes\n",
      "took 46.74620580673218 seconds (0.779103430112203 minutes) to do 9 out of 162. Overall, estimated time is: 763.7282983098711 minutes\n",
      "took 58.28593587875366 seconds (0.9714322646458944 minutes) to do 9 out of 162. Overall, estimated time is: 779.7341133892536 minutes\n",
      "took 47.178510904312134 seconds (0.7863085150718689 minutes) to do 9 out of 162. Overall, estimated time is: 773.3004582166672 minutes\n",
      "took 48.13617992401123 seconds (0.8022696654001872 minutes) to do 9 out of 162. Overall, estimated time is: 769.6187676787376 minutes\n",
      "took 47.68520402908325 seconds (0.7947534004847209 minutes) to do 9 out of 162. Overall, estimated time is: 765.9792089483955 minutes\n",
      "took 46.84501814842224 seconds (0.780750302473704 minutes) to do 9 out of 162. Overall, estimated time is: 761.8750063419342 minutes\n",
      "took 47.2024130821228 seconds (0.7867068847020467 minutes) to do 9 out of 162. Overall, estimated time is: 758.8228458661299 minutes\n",
      "took 47.402487993240356 seconds (0.790041466554006 minutes) to do 9 out of 162. Overall, estimated time is: 756.425361611162 minutes\n",
      "took 46.948097944259644 seconds (0.782468299070994 minutes) to do 9 out of 162. Overall, estimated time is: 753.8840640735626 minutes\n",
      "took 46.654319047927856 seconds (0.7775719841321309 minutes) to do 9 out of 162. Overall, estimated time is: 751.379502658546 minutes\n",
      "took 46.595643043518066 seconds (0.7765940507253011 minutes) to do 9 out of 162. Overall, estimated time is: 749.1167871236801 minutes\n",
      "took 46.88620710372925 seconds (0.7814367850621541 minutes) to do 9 out of 162. Overall, estimated time is: 747.3524638772012 minutes\n",
      "took 47.14609694480896 seconds (0.7857682824134826 minutes) to do 9 out of 162. Overall, estimated time is: 745.9831385813261 minutes\n",
      "took 48.68360900878906 seconds (0.8113934834798177 minutes) to do 9 out of 162. Overall, estimated time is: 745.9269425439835 minutes\n",
      "took 1296.2970621585846 seconds (21.60495103597641 minutes) to do 9 out of 162. Overall, estimated time is: 1654.8516143764766 minutes\n",
      "took 2617.717132091522 seconds (43.628618868192035 minutes) to do 9 out of 162. Overall, estimated time is: 3400.1343646775595 minutes\n",
      "took 386.2702157497406 seconds (6.437836929162343 minutes) to do 9 out of 162. Overall, estimated time is: 3509.2561010381446 minutes\n",
      "took 1020.5267851352692 seconds (17.008779752254487 minutes) to do 9 out of 162. Overall, estimated time is: 4013.6229223519563 minutes\n",
      "took 455.54491209983826 seconds (7.592415201663971 minutes) to do 9 out of 162. Overall, estimated time is: 4131.871491662979 minutes\n",
      "took 47.10798716545105 seconds (0.7851331194241842 minutes) to do 9 out of 162. Overall, estimated time is: 4000.674595969457 minutes\n",
      "took 49.76192283630371 seconds (0.8293653806050618 minutes) to do 9 out of 162. Overall, estimated time is: 3880.699885725975 minutes\n",
      "took 75.31192898750305 seconds (1.2551988164583843 minutes) to do 9 out of 162. Overall, estimated time is: 3783.256051003933 minutes\n",
      "took 65.19216394424438 seconds (1.0865360657374064 minutes) to do 9 out of 162. Overall, estimated time is: 3687.1934322916227 minutes\n",
      "took 51.875757932662964 seconds (0.8645959655443828 minutes) to do 9 out of 162. Overall, estimated time is: 3590.7436210942274 minutes\n",
      "took 69.08772397041321 seconds (1.1514620661735535 minutes) to do 9 out of 162. Overall, estimated time is: 3509.0113164378754 minutes\n",
      "took 52.491947174072266 seconds (0.8748657862345378 minutes) to do 9 out of 162. Overall, estimated time is: 3424.452425041795 minutes\n",
      "took 48.24796199798584 seconds (0.8041326999664307 minutes) to do 9 out of 162. Overall, estimated time is: 3343.05064908808 minutes\n",
      "took 71.39465284347534 seconds (1.189910880724589 minutes) to do 9 out of 162. Overall, estimated time is: 3276.8532237768172 minutes\n",
      "took 71.32271909713745 seconds (1.188711984952291 minutes) to do 9 out of 162. Overall, estimated time is: 3214.4070631599425 minutes\n",
      "took 66.66423296928406 seconds (1.1110705494880677 minutes) to do 9 out of 162. Overall, estimated time is: 3153.4502770841127 minutes\n",
      "took 63.76176834106445 seconds (1.062696139017741 minutes) to do 9 out of 162. Overall, estimated time is: 3094.5882440715222 minutes\n",
      "took 61.31736898422241 seconds (1.0219561497370402 minutes) to do 9 out of 162. Overall, estimated time is: 3037.840020423814 minutes\n",
      "took 67.13978314399719 seconds (1.1189963857332865 minutes) to do 9 out of 162. Overall, estimated time is: 2986.2861399540534 minutes\n",
      "took 63.003674030303955 seconds (1.0500612338383992 minutes) to do 9 out of 162. Overall, estimated time is: 2935.727891771793 minutes\n",
      "took 55.885972023010254 seconds (0.9314328670501709 minutes) to do 9 out of 162. Overall, estimated time is: 2884.9797815322877 minutes\n",
      "took 52.594322204589844 seconds (0.8765720367431641 minutes) to do 9 out of 162. Overall, estimated time is: 2835.449146965572 minutes\n",
      "took 51.82249307632446 seconds (0.8637082179387411 minutes) to do 9 out of 162. Overall, estimated time is: 2787.947635270274 minutes\n",
      "took 66.25599312782288 seconds (1.1042665521303812 minutes) to do 9 out of 162. Overall, estimated time is: 2747.6242048063064 minutes\n",
      "took 56.40846109390259 seconds (0.9401410182317098 minutes) to do 9 out of 162. Overall, estimated time is: 2705.7447659158706 minutes\n",
      "took 57.23089528083801 seconds (0.9538482546806335 minutes) to do 9 out of 162. Overall, estimated time is: 2665.959720956761 minutes\n",
      "took 58.38390231132507 seconds (0.9730650385220846 minutes) to do 9 out of 162. Overall, estimated time is: 2628.242997220729 minutes\n",
      "took 66.19108986854553 seconds (1.1031848311424255 minutes) to do 9 out of 162. Overall, estimated time is: 2594.5863446742296 minutes\n",
      "took 73.1050169467926 seconds (1.21841694911321 minutes) to do 9 out of 162. Overall, estimated time is: 2564.4622715030396 minutes\n",
      "took 66.1474781036377 seconds (1.1024579683939615 minutes) to do 9 out of 162. Overall, estimated time is: 2533.414154372692 minutes\n",
      "took 65.38769602775574 seconds (1.089794933795929 minutes) to do 9 out of 162. Overall, estimated time is: 2503.355675840378 minutes\n",
      "took 65.1504328250885 seconds (1.0858405470848083 minutes) to do 9 out of 162. Overall, estimated time is: 2474.3834825015983 minutes\n",
      "took 65.60763502120972 seconds (1.0934605836868285 minutes) to do 9 out of 162. Overall, estimated time is: 2446.6365642624082 minutes\n",
      "took 63.19314789772034 seconds (1.0532191316286723 minutes) to do 9 out of 162. Overall, estimated time is: 2419.2332049767174 minutes\n",
      "took 38.379441261291504 seconds (0.6396573543548584 minutes) to do 9 out of 162. Overall, estimated time is: 2385.923609455282 minutes\n",
      "took 46.58346700668335 seconds (0.7763911167780558 minutes) to do 9 out of 162. Overall, estimated time is: 2356.045099379335 minutes\n",
      "took 37.37321615219116 seconds (0.6228869358698527 minutes) to do 9 out of 162. Overall, estimated time is: 2324.742732848619 minutes\n",
      "took 41.695454835891724 seconds (0.694924247264862 minutes) to do 9 out of 162. Overall, estimated time is: 2295.6599350234555 minutes\n",
      "took 10824.513904809952 seconds (180.40856508016586 minutes) to do 9 out of 162. Overall, estimated time is: 5063.78540635513 minutes\n",
      "took 7255.83175110817 seconds (120.93052918513617 minutes) to do 9 out of 162. Overall, estimated time is: 6829.626079448462 minutes\n",
      "took 3642.8764066696167 seconds (60.714606777826944 minutes) to do 9 out of 162. Overall, estimated time is: 7631.37006211398 minutes\n",
      "took 962.9210708141327 seconds (16.04868451356888 minutes) to do 9 out of 162. Overall, estimated time is: 7745.907518909824 minutes\n",
      "took 2812.7148730754852 seconds (46.878581217924754 minutes) to do 9 out of 162. Overall, estimated time is: 8306.044503658159 minutes\n",
      "took 46.036105155944824 seconds (0.7672684192657471 minutes) to do 9 out of 162. Overall, estimated time is: 8187.268064677342 minutes\n",
      "took 43.930448055267334 seconds (0.7321741342544555 minutes) to do 9 out of 162. Overall, estimated time is: 8071.6506460707005 minutes\n",
      "took 45.187479972839355 seconds (0.7531246662139892 minutes) to do 9 out of 162. Overall, estimated time is: 7959.828188457272 minutes\n",
      "took 45.85127401351929 seconds (0.7641879002253215 minutes) to do 9 out of 162. Overall, estimated time is: 7851.495297471445 minutes\n",
      "took 37.324950218200684 seconds (0.622082503636678 minutes) to do 9 out of 162. Overall, estimated time is: 7744.430245131254 minutes\n",
      "took 38.521109104156494 seconds (0.642018485069275 minutes) to do 9 out of 162. Overall, estimated time is: 7640.733762872737 minutes\n",
      "took 41.99436902999878 seconds (0.6999061504999796 minutes) to do 9 out of 162. Overall, estimated time is: 7540.759192633969 minutes\n",
      "took 42.215097188949585 seconds (0.7035849531491597 minutes) to do 9 out of 162. Overall, estimated time is: 7443.64837283618 minutes\n",
      "took 40.98308491706848 seconds (0.6830514152844747 minutes) to do 9 out of 162. Overall, estimated time is: 7348.973273202777 minutes\n",
      "took 41.49663996696472 seconds (0.6916106661160787 minutes) to do 9 out of 162. Overall, estimated time is: 7256.9996474259515 minutes\n",
      "took 37.303033113479614 seconds (0.6217172185579936 minutes) to do 9 out of 162. Overall, estimated time is: 7166.644738766631 minutes\n",
      "took 35.47470307350159 seconds (0.5912450512250265 minutes) to do 9 out of 162. Overall, estimated time is: 7078.32631501007 minutes\n",
      "took 34.81912970542908 seconds (0.580318828423818 minutes) to do 9 out of 162. Overall, estimated time is: 6992.200083029583 minutes\n",
      "took 34.95952081680298 seconds (0.5826586802800496 minutes) to do 9 out of 162. Overall, estimated time is: 6908.338791931759 minutes\n",
      "took 34.86336016654968 seconds (0.581056002775828 minutes) to do 9 out of 162. Overall, estimated time is: 6826.608928067867 minutes\n",
      "took 34.91911005973816 seconds (0.5819851676623027 minutes) to do 9 out of 162. Overall, estimated time is: 6746.958971812755 minutes\n",
      "took 34.62963008880615 seconds (0.5771605014801026 minutes) to do 9 out of 162. Overall, estimated time is: 6669.244901419581 minutes\n",
      "took 34.92574191093445 seconds (0.5820956985155742 minutes) to do 9 out of 162. Overall, estimated time is: 6593.505629195107 minutes\n",
      "took 34.92896103858948 seconds (0.582149350643158 minutes) to do 9 out of 162. Overall, estimated time is: 6519.614256935294 minutes\n",
      "took 35.52755904197693 seconds (0.5921259840329488 minutes) to do 9 out of 162. Overall, estimated time is: 6447.613743638993 minutes\n",
      "took 35.12919497489929 seconds (0.5854865829149882 minutes) to do 9 out of 162. Overall, estimated time is: 6377.254969108957 minutes\n",
      "took 35.325807094573975 seconds (0.5887634515762329 minutes) to do 9 out of 162. Overall, estimated time is: 6308.587085337638 minutes\n",
      "took 34.91673803329468 seconds (0.5819456338882446 minutes) to do 9 out of 162. Overall, estimated time is: 6241.443352855915 minutes\n",
      "took 34.76975679397583 seconds (0.5794959465662638 minutes) to do 9 out of 162. Overall, estimated time is: 6175.817306029386 minutes\n",
      "took 35.62627983093262 seconds (0.5937713305155436 minutes) to do 9 out of 162. Overall, estimated time is: 6111.8316784769295 minutes\n",
      "took 35.60220408439636 seconds (0.5933700680732727 minutes) to do 9 out of 162. Overall, estimated time is: 6049.279791331023 minutes\n",
      "took 35.27055382728577 seconds (0.5878425637880961 minutes) to do 9 out of 162. Overall, estimated time is: 5988.061565577983 minutes\n",
      "took 41.888259172439575 seconds (0.6981376528739929 minutes) to do 9 out of 162. Overall, estimated time is: 5929.301442498427 minutes\n",
      "took 40.203569173812866 seconds (0.6700594862302144 minutes) to do 9 out of 162. Overall, estimated time is: 5871.53854212735 minutes\n",
      "took 52.15371012687683 seconds (0.8692285021146139 minutes) to do 9 out of 162. Overall, estimated time is: 5816.983845598466 minutes\n",
      "took 43.70921230316162 seconds (0.7284868717193603 minutes) to do 9 out of 162. Overall, estimated time is: 5762.215410520168 minutes\n",
      "took 40.46016478538513 seconds (0.6743360797564188 minutes) to do 9 out of 162. Overall, estimated time is: 5708.076727474865 minutes\n",
      "took 40.89756369590759 seconds (0.6816260615984598 minutes) to do 9 out of 162. Overall, estimated time is: 5655.135644111037 minutes\n",
      "took 43.02388310432434 seconds (0.7170647184054056 minutes) to do 9 out of 162. Overall, estimated time is: 5603.621518001606 minutes\n",
      "took 45.79495191574097 seconds (0.7632491985956827 minutes) to do 9 out of 162. Overall, estimated time is: 5553.591326637414 minutes\n",
      "took 36.02974200248718 seconds (0.600495700041453 minutes) to do 9 out of 162. Overall, estimated time is: 5503.062677405097 minutes\n",
      "took 35.059030055999756 seconds (0.584317167599996 minutes) to do 9 out of 162. Overall, estimated time is: 5453.396082229614 minutes\n",
      "took 34.81171989440918 seconds (0.5801953315734864 minutes) to do 9 out of 162. Overall, estimated time is: 5404.6755201717415 minutes\n",
      "took 34.82997703552246 seconds (0.5804996172587077 minutes) to do 9 out of 162. Overall, estimated time is: 5356.9130018234255 minutes\n",
      "took 34.56949520111084 seconds (0.5761582533518473 minutes) to do 9 out of 162. Overall, estimated time is: 5310.039218083168 minutes\n",
      "took 34.63581895828247 seconds (0.5772636493047079 minutes) to do 9 out of 162. Overall, estimated time is: 5264.076610506039 minutes\n",
      "took 34.41892981529236 seconds (0.5736488302548727 minutes) to do 9 out of 162. Overall, estimated time is: 5218.957877321924 minutes\n",
      "took 34.530516386032104 seconds (0.5755086064338684 minutes) to do 9 out of 162. Overall, estimated time is: 5174.706547353852 minutes\n",
      "took 34.860690116882324 seconds (0.5810115019480387 minutes) to do 9 out of 162. Overall, estimated time is: 5131.3295568065105 minutes\n",
      "took 34.60136795043945 seconds (0.5766894658406575 minutes) to do 9 out of 162. Overall, estimated time is: 5088.719106554986 minutes\n",
      "took 36.94114303588867 seconds (0.6156857172648112 minutes) to do 9 out of 162. Overall, estimated time is: 5047.218926572363 minutes\n",
      "took 36.1112539768219 seconds (0.6018542329470317 minutes) to do 9 out of 162. Overall, estimated time is: 5006.3578652930255 minutes\n",
      "took 37.79362916946411 seconds (0.6298938194910685 minutes) to do 9 out of 162. Overall, estimated time is: 4966.464934311042 minutes\n",
      "took 36.82608199119568 seconds (0.6137680331865947 minutes) to do 9 out of 162. Overall, estimated time is: 4927.15220324099 minutes\n",
      "took 39.1253080368042 seconds (0.65208846728007 minutes) to do 9 out of 162. Overall, estimated time is: 4888.8465838580005 minutes\n",
      "took 40.10196399688721 seconds (0.6683660666147868 minutes) to do 9 out of 162. Overall, estimated time is: 4851.344070395671 minutes\n",
      "took 37.14603877067566 seconds (0.6191006461779277 minutes) to do 9 out of 162. Overall, estimated time is: 4814.100507985198 minutes\n",
      "took 40.30527687072754 seconds (0.6717546145121257 minutes) to do 9 out of 162. Overall, estimated time is: 4777.915768572586 minutes\n",
      "took 34.94945430755615 seconds (0.5824909051259358 minutes) to do 9 out of 162. Overall, estimated time is: 4741.649194917312 minutes\n",
      "took 34.86123013496399 seconds (0.5810205022493998 minutes) to do 9 out of 162. Overall, estimated time is: 4705.985869715173 minutes\n",
      "took 34.98411011695862 seconds (0.5830685019493103 minutes) to do 9 out of 162. Overall, estimated time is: 4670.9377269847055 minutes\n",
      "took 34.83556509017944 seconds (0.5805927515029907 minutes) to do 9 out of 162. Overall, estimated time is: 4636.454780475497 minutes\n",
      "took 34.40341401100159 seconds (0.5733902335166932 minutes) to do 9 out of 162. Overall, estimated time is: 4602.487156127504 minutes\n",
      "took 34.33344101905823 seconds (0.5722240169843038 minutes) to do 9 out of 162. Overall, estimated time is: 4569.0676027788495 minutes\n",
      "took 34.44809818267822 seconds (0.5741349697113037 minutes) to do 9 out of 162. Overall, estimated time is: 4536.205719034266 minutes\n",
      "took 35.35163187980652 seconds (0.5891938646634419 minutes) to do 9 out of 162. Overall, estimated time is: 4503.985350072384 minutes\n",
      "took 34.9819598197937 seconds (0.5830326636632284 minutes) to do 9 out of 162. Overall, estimated time is: 4472.235259153747 minutes\n",
      "took 34.70736908912659 seconds (0.5784561514854432 minutes) to do 9 out of 162. Overall, estimated time is: 4440.9557947720805 minutes\n",
      "took 34.84873700141907 seconds (0.5808122833569844 minutes) to do 9 out of 162. Overall, estimated time is: 4410.185951318141 minutes\n",
      "took 34.770426750183105 seconds (0.5795071125030518 minutes) to do 9 out of 162. Overall, estimated time is: 4379.88752614595 minutes\n",
      "took 34.68558311462402 seconds (0.5780930519104004 minutes) to do 9 out of 162. Overall, estimated time is: 4350.048781149886 minutes\n",
      "took 34.48362922668457 seconds (0.5747271537780761 minutes) to do 9 out of 162. Overall, estimated time is: 4320.645325350028 minutes\n",
      "took 34.50845217704773 seconds (0.5751408696174621 minutes) to do 9 out of 162. Overall, estimated time is: 4291.693676441317 minutes\n",
      "took 37.514622926712036 seconds (0.6252437154452006 minutes) to do 9 out of 162. Overall, estimated time is: 4263.529131398418 minutes\n",
      "took 44.82830309867859 seconds (0.7471383849779765 minutes) to do 9 out of 162. Overall, estimated time is: 4236.6294615188035 minutes\n",
      "took 40.982266902923584 seconds (0.6830377817153931 minutes) to do 9 out of 162. Overall, estimated time is: 4209.6921422807145 minutes\n",
      "took 39.42172598838806 seconds (0.6570287664731344 minutes) to do 9 out of 162. Overall, estimated time is: 4182.977033135097 minutes\n",
      "took 35.444968938827515 seconds (0.5907494823137919 minutes) to do 9 out of 162. Overall, estimated time is: 4156.207408073546 minutes\n",
      "took 35.93949913978577 seconds (0.5989916523297628 minutes) to do 9 out of 162. Overall, estimated time is: 4129.883809013437 minutes\n",
      "took 36.31848907470703 seconds (0.6053081512451172 minutes) to do 9 out of 162. Overall, estimated time is: 4103.983729838289 minutes\n",
      "took 35.58385992050171 seconds (0.5930643320083618 minutes) to do 9 out of 162. Overall, estimated time is: 4078.3754516148742 minutes\n",
      "took 34.714832067489624 seconds (0.5785805344581604 minutes) to do 9 out of 162. Overall, estimated time is: 4053.0380336078574 minutes\n",
      "took 34.76349401473999 seconds (0.5793915669123332 minutes) to do 9 out of 162. Overall, estimated time is: 4028.0652919398976 minutes\n",
      "took 35.5062038898468 seconds (0.59177006483078 minutes) to do 9 out of 162. Overall, estimated time is: 4003.5243034016917 minutes\n",
      "took 35.59266901016235 seconds (0.5932111501693725 minutes) to do 9 out of 162. Overall, estimated time is: 3979.3357966356343 minutes\n",
      "took 34.16876196861267 seconds (0.5694793661435446 minutes) to do 9 out of 162. Overall, estimated time is: 3955.331951229275 minutes\n",
      "took 35.400269985198975 seconds (0.5900044997533163 minutes) to do 9 out of 162. Overall, estimated time is: 3931.7891386744072 minutes\n",
      "took 34.476943254470825 seconds (0.5746157209078471 minutes) to do 9 out of 162. Overall, estimated time is: 3908.472070819058 minutes\n",
      "took 34.45741415023804 seconds (0.5742902358373007 minutes) to do 9 out of 162. Overall, estimated time is: 3885.4702093610954 minutes\n",
      "took 33.98501896858215 seconds (0.5664169828097025 minutes) to do 9 out of 162. Overall, estimated time is: 3862.7303484209488 minutes\n",
      "took 34.66105890274048 seconds (0.5776843150456746 minutes) to do 9 out of 162. Overall, estimated time is: 3840.3651393792775 minutes\n",
      "took 34.160398960113525 seconds (0.5693399826685588 minutes) to do 9 out of 162. Overall, estimated time is: 3818.2470658106804 minutes\n",
      "took 34.483126163482666 seconds (0.5747187693913778 minutes) to do 9 out of 162. Overall, estimated time is: 3796.4546470324726 minutes\n",
      "took 39.59171199798584 seconds (0.6598618666330973 minutes) to do 9 out of 162. Overall, estimated time is: 3775.463190101793 minutes\n",
      "took 34.7019681930542 seconds (0.5783661365509033 minutes) to do 9 out of 162. Overall, estimated time is: 3754.257156920433 minutes\n",
      "took 34.644858837127686 seconds (0.577414313952128 minutes) to do 9 out of 162. Overall, estimated time is: 3733.3208529158073 minutes\n",
      "took 34.51750898361206 seconds (0.5752918163935343 minutes) to do 9 out of 162. Overall, estimated time is: 3712.642124106346 minutes\n",
      "took 34.56394696235657 seconds (0.5760657827059428 minutes) to do 9 out of 162. Overall, estimated time is: 3692.2330616987665 minutes\n",
      "took 34.118448972702026 seconds (0.5686408162117005 minutes) to do 9 out of 162. Overall, estimated time is: 3672.0405725750957 minutes\n",
      "took 34.20026683807373 seconds (0.5700044473012288 minutes) to do 9 out of 162. Overall, estimated time is: 3652.1116074488136 minutes\n",
      "took 34.22720408439636 seconds (0.570453401406606 minutes) to do 9 out of 162. Overall, estimated time is: 3632.435913203797 minutes\n",
      "took 34.47074508666992 seconds (0.5745124181111654 minutes) to do 9 out of 162. Overall, estimated time is: 3613.029453745187 minutes\n",
      "took 34.203813314437866 seconds (0.5700635552406311 minutes) to do 9 out of 162. Overall, estimated time is: 3593.838701508949 minutes\n",
      "took 34.91485595703125 seconds (0.5819142659505209 minutes) to do 9 out of 162. Overall, estimated time is: 3574.952026167181 minutes\n",
      "{   'params': {   'activations': [   <function tanh at 0x11f7257b8>,\n",
      "                                     <function tanh at 0x11f7257b8>,\n",
      "                                     <function tanh at 0x11f7257b8>],\n",
      "                  'initialisation_scheme': <function xavier_initializer at 0x1a25821400>,\n",
      "                  'learning_rate': 0.001,\n",
      "                  'num_neurons': [10, 10, 10],\n",
      "                  'seed': 100},\n",
      "    'score': 0.07280524333917246,\n",
      "    'var': 1.0473625661994142e-05}\n",
      "{   'params': {   'activations': [   <function leaky_relu at 0x11fcedd08>,\n",
      "                                     <function leaky_relu at 0x11fcedd08>,\n",
      "                                     <function leaky_relu at 0x11fcedd08>],\n",
      "                  'initialisation_scheme': <function xavier_initializer at 0x1a25821400>,\n",
      "                  'learning_rate': 0.1,\n",
      "                  'num_neurons': [10, 10, 10],\n",
      "                  'seed': 50},\n",
      "    'score': 16.901739870675073,\n",
      "    'var': 2483.2905933227457}\n"
     ]
    },
    {
     "ename": "TypeError",
     "evalue": "Object of type 'function' is not JSON serializable",
     "output_type": "error",
     "traceback": [
      "\u001b[0;31m---------------------------------------------------------------------------\u001b[0m",
      "\u001b[0;31mTypeError\u001b[0m                                 Traceback (most recent call last)",
      "\u001b[0;32m<ipython-input-44-01025db3e133>\u001b[0m in \u001b[0;36m<module>\u001b[0;34m()\u001b[0m\n\u001b[0;32m----> 1\u001b[0;31m \u001b[0mscore_list\u001b[0m \u001b[0;34m=\u001b[0m \u001b[0mevaluation\u001b[0m\u001b[0;34m.\u001b[0m\u001b[0mgridsearch\u001b[0m\u001b[0;34m(\u001b[0m\u001b[0mEnsembleNetwork\u001b[0m\u001b[0;34m,\u001b[0m\u001b[0mdataset_creation\u001b[0m\u001b[0;34m.\u001b[0m\u001b[0mLinearDataset\u001b[0m\u001b[0;34m)\u001b[0m\u001b[0;34m\u001b[0m\u001b[0m\n\u001b[0m",
      "\u001b[0;32m~/Documents/Master-Thesis/new_version/evaluation.py\u001b[0m in \u001b[0;36mgridsearch\u001b[0;34m(model, dataset_creator, trials, seeds, num_neurons, learning_rates, activation_schemes, initialisation_schemes)\u001b[0m\n\u001b[1;32m    336\u001b[0m     \u001b[0mpp\u001b[0m\u001b[0;34m.\u001b[0m\u001b[0mpprint\u001b[0m\u001b[0;34m(\u001b[0m\u001b[0mscore_list\u001b[0m\u001b[0;34m[\u001b[0m\u001b[0;34m-\u001b[0m\u001b[0;36m1\u001b[0m\u001b[0;34m]\u001b[0m\u001b[0;34m)\u001b[0m\u001b[0;34m\u001b[0m\u001b[0m\n\u001b[1;32m    337\u001b[0m     \u001b[0;32mwith\u001b[0m \u001b[0mopen\u001b[0m\u001b[0;34m(\u001b[0m\u001b[0mfile_name\u001b[0m\u001b[0;34m,\u001b[0m \u001b[0;34m'w'\u001b[0m\u001b[0;34m)\u001b[0m \u001b[0;32mas\u001b[0m \u001b[0mfout\u001b[0m\u001b[0;34m:\u001b[0m\u001b[0;34m\u001b[0m\u001b[0m\n\u001b[0;32m--> 338\u001b[0;31m         \u001b[0mjson\u001b[0m\u001b[0;34m.\u001b[0m\u001b[0mdump\u001b[0m\u001b[0;34m(\u001b[0m\u001b[0mscore_list\u001b[0m\u001b[0;34m,\u001b[0m \u001b[0mfout\u001b[0m\u001b[0;34m)\u001b[0m\u001b[0;34m\u001b[0m\u001b[0m\n\u001b[0m\u001b[1;32m    339\u001b[0m     \u001b[0;32mreturn\u001b[0m \u001b[0mscore_list\u001b[0m\u001b[0;34m\u001b[0m\u001b[0m\n",
      "\u001b[0;32m~/anaconda/envs/tfdeeplearning/lib/python3.6/json/__init__.py\u001b[0m in \u001b[0;36mdump\u001b[0;34m(obj, fp, skipkeys, ensure_ascii, check_circular, allow_nan, cls, indent, separators, default, sort_keys, **kw)\u001b[0m\n\u001b[1;32m    177\u001b[0m     \u001b[0;31m# could accelerate with writelines in some versions of Python, at\u001b[0m\u001b[0;34m\u001b[0m\u001b[0;34m\u001b[0m\u001b[0m\n\u001b[1;32m    178\u001b[0m     \u001b[0;31m# a debuggability cost\u001b[0m\u001b[0;34m\u001b[0m\u001b[0;34m\u001b[0m\u001b[0m\n\u001b[0;32m--> 179\u001b[0;31m     \u001b[0;32mfor\u001b[0m \u001b[0mchunk\u001b[0m \u001b[0;32min\u001b[0m \u001b[0miterable\u001b[0m\u001b[0;34m:\u001b[0m\u001b[0;34m\u001b[0m\u001b[0m\n\u001b[0m\u001b[1;32m    180\u001b[0m         \u001b[0mfp\u001b[0m\u001b[0;34m.\u001b[0m\u001b[0mwrite\u001b[0m\u001b[0;34m(\u001b[0m\u001b[0mchunk\u001b[0m\u001b[0;34m)\u001b[0m\u001b[0;34m\u001b[0m\u001b[0m\n\u001b[1;32m    181\u001b[0m \u001b[0;34m\u001b[0m\u001b[0m\n",
      "\u001b[0;32m~/anaconda/envs/tfdeeplearning/lib/python3.6/json/encoder.py\u001b[0m in \u001b[0;36m_iterencode\u001b[0;34m(o, _current_indent_level)\u001b[0m\n\u001b[1;32m    426\u001b[0m             \u001b[0;32myield\u001b[0m \u001b[0m_floatstr\u001b[0m\u001b[0;34m(\u001b[0m\u001b[0mo\u001b[0m\u001b[0;34m)\u001b[0m\u001b[0;34m\u001b[0m\u001b[0m\n\u001b[1;32m    427\u001b[0m         \u001b[0;32melif\u001b[0m \u001b[0misinstance\u001b[0m\u001b[0;34m(\u001b[0m\u001b[0mo\u001b[0m\u001b[0;34m,\u001b[0m \u001b[0;34m(\u001b[0m\u001b[0mlist\u001b[0m\u001b[0;34m,\u001b[0m \u001b[0mtuple\u001b[0m\u001b[0;34m)\u001b[0m\u001b[0;34m)\u001b[0m\u001b[0;34m:\u001b[0m\u001b[0;34m\u001b[0m\u001b[0m\n\u001b[0;32m--> 428\u001b[0;31m             \u001b[0;32myield\u001b[0m \u001b[0;32mfrom\u001b[0m \u001b[0m_iterencode_list\u001b[0m\u001b[0;34m(\u001b[0m\u001b[0mo\u001b[0m\u001b[0;34m,\u001b[0m \u001b[0m_current_indent_level\u001b[0m\u001b[0;34m)\u001b[0m\u001b[0;34m\u001b[0m\u001b[0m\n\u001b[0m\u001b[1;32m    429\u001b[0m         \u001b[0;32melif\u001b[0m \u001b[0misinstance\u001b[0m\u001b[0;34m(\u001b[0m\u001b[0mo\u001b[0m\u001b[0;34m,\u001b[0m \u001b[0mdict\u001b[0m\u001b[0;34m)\u001b[0m\u001b[0;34m:\u001b[0m\u001b[0;34m\u001b[0m\u001b[0m\n\u001b[1;32m    430\u001b[0m             \u001b[0;32myield\u001b[0m \u001b[0;32mfrom\u001b[0m \u001b[0m_iterencode_dict\u001b[0m\u001b[0;34m(\u001b[0m\u001b[0mo\u001b[0m\u001b[0;34m,\u001b[0m \u001b[0m_current_indent_level\u001b[0m\u001b[0;34m)\u001b[0m\u001b[0;34m\u001b[0m\u001b[0m\n",
      "\u001b[0;32m~/anaconda/envs/tfdeeplearning/lib/python3.6/json/encoder.py\u001b[0m in \u001b[0;36m_iterencode_list\u001b[0;34m(lst, _current_indent_level)\u001b[0m\n\u001b[1;32m    323\u001b[0m                 \u001b[0;32melse\u001b[0m\u001b[0;34m:\u001b[0m\u001b[0;34m\u001b[0m\u001b[0m\n\u001b[1;32m    324\u001b[0m                     \u001b[0mchunks\u001b[0m \u001b[0;34m=\u001b[0m \u001b[0m_iterencode\u001b[0m\u001b[0;34m(\u001b[0m\u001b[0mvalue\u001b[0m\u001b[0;34m,\u001b[0m \u001b[0m_current_indent_level\u001b[0m\u001b[0;34m)\u001b[0m\u001b[0;34m\u001b[0m\u001b[0m\n\u001b[0;32m--> 325\u001b[0;31m                 \u001b[0;32myield\u001b[0m \u001b[0;32mfrom\u001b[0m \u001b[0mchunks\u001b[0m\u001b[0;34m\u001b[0m\u001b[0m\n\u001b[0m\u001b[1;32m    326\u001b[0m         \u001b[0;32mif\u001b[0m \u001b[0mnewline_indent\u001b[0m \u001b[0;32mis\u001b[0m \u001b[0;32mnot\u001b[0m \u001b[0;32mNone\u001b[0m\u001b[0;34m:\u001b[0m\u001b[0;34m\u001b[0m\u001b[0m\n\u001b[1;32m    327\u001b[0m             \u001b[0m_current_indent_level\u001b[0m \u001b[0;34m-=\u001b[0m \u001b[0;36m1\u001b[0m\u001b[0;34m\u001b[0m\u001b[0m\n",
      "\u001b[0;32m~/anaconda/envs/tfdeeplearning/lib/python3.6/json/encoder.py\u001b[0m in \u001b[0;36m_iterencode_dict\u001b[0;34m(dct, _current_indent_level)\u001b[0m\n\u001b[1;32m    402\u001b[0m                 \u001b[0;32melse\u001b[0m\u001b[0;34m:\u001b[0m\u001b[0;34m\u001b[0m\u001b[0m\n\u001b[1;32m    403\u001b[0m                     \u001b[0mchunks\u001b[0m \u001b[0;34m=\u001b[0m \u001b[0m_iterencode\u001b[0m\u001b[0;34m(\u001b[0m\u001b[0mvalue\u001b[0m\u001b[0;34m,\u001b[0m \u001b[0m_current_indent_level\u001b[0m\u001b[0;34m)\u001b[0m\u001b[0;34m\u001b[0m\u001b[0m\n\u001b[0;32m--> 404\u001b[0;31m                 \u001b[0;32myield\u001b[0m \u001b[0;32mfrom\u001b[0m \u001b[0mchunks\u001b[0m\u001b[0;34m\u001b[0m\u001b[0m\n\u001b[0m\u001b[1;32m    405\u001b[0m         \u001b[0;32mif\u001b[0m \u001b[0mnewline_indent\u001b[0m \u001b[0;32mis\u001b[0m \u001b[0;32mnot\u001b[0m \u001b[0;32mNone\u001b[0m\u001b[0;34m:\u001b[0m\u001b[0;34m\u001b[0m\u001b[0m\n\u001b[1;32m    406\u001b[0m             \u001b[0m_current_indent_level\u001b[0m \u001b[0;34m-=\u001b[0m \u001b[0;36m1\u001b[0m\u001b[0;34m\u001b[0m\u001b[0m\n",
      "\u001b[0;32m~/anaconda/envs/tfdeeplearning/lib/python3.6/json/encoder.py\u001b[0m in \u001b[0;36m_iterencode_dict\u001b[0;34m(dct, _current_indent_level)\u001b[0m\n\u001b[1;32m    402\u001b[0m                 \u001b[0;32melse\u001b[0m\u001b[0;34m:\u001b[0m\u001b[0;34m\u001b[0m\u001b[0m\n\u001b[1;32m    403\u001b[0m                     \u001b[0mchunks\u001b[0m \u001b[0;34m=\u001b[0m \u001b[0m_iterencode\u001b[0m\u001b[0;34m(\u001b[0m\u001b[0mvalue\u001b[0m\u001b[0;34m,\u001b[0m \u001b[0m_current_indent_level\u001b[0m\u001b[0;34m)\u001b[0m\u001b[0;34m\u001b[0m\u001b[0m\n\u001b[0;32m--> 404\u001b[0;31m                 \u001b[0;32myield\u001b[0m \u001b[0;32mfrom\u001b[0m \u001b[0mchunks\u001b[0m\u001b[0;34m\u001b[0m\u001b[0m\n\u001b[0m\u001b[1;32m    405\u001b[0m         \u001b[0;32mif\u001b[0m \u001b[0mnewline_indent\u001b[0m \u001b[0;32mis\u001b[0m \u001b[0;32mnot\u001b[0m \u001b[0;32mNone\u001b[0m\u001b[0;34m:\u001b[0m\u001b[0;34m\u001b[0m\u001b[0m\n\u001b[1;32m    406\u001b[0m             \u001b[0m_current_indent_level\u001b[0m \u001b[0;34m-=\u001b[0m \u001b[0;36m1\u001b[0m\u001b[0;34m\u001b[0m\u001b[0m\n",
      "\u001b[0;32m~/anaconda/envs/tfdeeplearning/lib/python3.6/json/encoder.py\u001b[0m in \u001b[0;36m_iterencode_list\u001b[0;34m(lst, _current_indent_level)\u001b[0m\n\u001b[1;32m    323\u001b[0m                 \u001b[0;32melse\u001b[0m\u001b[0;34m:\u001b[0m\u001b[0;34m\u001b[0m\u001b[0m\n\u001b[1;32m    324\u001b[0m                     \u001b[0mchunks\u001b[0m \u001b[0;34m=\u001b[0m \u001b[0m_iterencode\u001b[0m\u001b[0;34m(\u001b[0m\u001b[0mvalue\u001b[0m\u001b[0;34m,\u001b[0m \u001b[0m_current_indent_level\u001b[0m\u001b[0;34m)\u001b[0m\u001b[0;34m\u001b[0m\u001b[0m\n\u001b[0;32m--> 325\u001b[0;31m                 \u001b[0;32myield\u001b[0m \u001b[0;32mfrom\u001b[0m \u001b[0mchunks\u001b[0m\u001b[0;34m\u001b[0m\u001b[0m\n\u001b[0m\u001b[1;32m    326\u001b[0m         \u001b[0;32mif\u001b[0m \u001b[0mnewline_indent\u001b[0m \u001b[0;32mis\u001b[0m \u001b[0;32mnot\u001b[0m \u001b[0;32mNone\u001b[0m\u001b[0;34m:\u001b[0m\u001b[0;34m\u001b[0m\u001b[0m\n\u001b[1;32m    327\u001b[0m             \u001b[0m_current_indent_level\u001b[0m \u001b[0;34m-=\u001b[0m \u001b[0;36m1\u001b[0m\u001b[0;34m\u001b[0m\u001b[0m\n",
      "\u001b[0;32m~/anaconda/envs/tfdeeplearning/lib/python3.6/json/encoder.py\u001b[0m in \u001b[0;36m_iterencode\u001b[0;34m(o, _current_indent_level)\u001b[0m\n\u001b[1;32m    435\u001b[0m                     \u001b[0;32mraise\u001b[0m \u001b[0mValueError\u001b[0m\u001b[0;34m(\u001b[0m\u001b[0;34m\"Circular reference detected\"\u001b[0m\u001b[0;34m)\u001b[0m\u001b[0;34m\u001b[0m\u001b[0m\n\u001b[1;32m    436\u001b[0m                 \u001b[0mmarkers\u001b[0m\u001b[0;34m[\u001b[0m\u001b[0mmarkerid\u001b[0m\u001b[0;34m]\u001b[0m \u001b[0;34m=\u001b[0m \u001b[0mo\u001b[0m\u001b[0;34m\u001b[0m\u001b[0m\n\u001b[0;32m--> 437\u001b[0;31m             \u001b[0mo\u001b[0m \u001b[0;34m=\u001b[0m \u001b[0m_default\u001b[0m\u001b[0;34m(\u001b[0m\u001b[0mo\u001b[0m\u001b[0;34m)\u001b[0m\u001b[0;34m\u001b[0m\u001b[0m\n\u001b[0m\u001b[1;32m    438\u001b[0m             \u001b[0;32myield\u001b[0m \u001b[0;32mfrom\u001b[0m \u001b[0m_iterencode\u001b[0m\u001b[0;34m(\u001b[0m\u001b[0mo\u001b[0m\u001b[0;34m,\u001b[0m \u001b[0m_current_indent_level\u001b[0m\u001b[0;34m)\u001b[0m\u001b[0;34m\u001b[0m\u001b[0m\n\u001b[1;32m    439\u001b[0m             \u001b[0;32mif\u001b[0m \u001b[0mmarkers\u001b[0m \u001b[0;32mis\u001b[0m \u001b[0;32mnot\u001b[0m \u001b[0;32mNone\u001b[0m\u001b[0;34m:\u001b[0m\u001b[0;34m\u001b[0m\u001b[0m\n",
      "\u001b[0;32m~/anaconda/envs/tfdeeplearning/lib/python3.6/json/encoder.py\u001b[0m in \u001b[0;36mdefault\u001b[0;34m(self, o)\u001b[0m\n\u001b[1;32m    178\u001b[0m         \"\"\"\n\u001b[1;32m    179\u001b[0m         raise TypeError(\"Object of type '%s' is not JSON serializable\" %\n\u001b[0;32m--> 180\u001b[0;31m                         o.__class__.__name__)\n\u001b[0m\u001b[1;32m    181\u001b[0m \u001b[0;34m\u001b[0m\u001b[0m\n\u001b[1;32m    182\u001b[0m     \u001b[0;32mdef\u001b[0m \u001b[0mencode\u001b[0m\u001b[0;34m(\u001b[0m\u001b[0mself\u001b[0m\u001b[0;34m,\u001b[0m \u001b[0mo\u001b[0m\u001b[0;34m)\u001b[0m\u001b[0;34m:\u001b[0m\u001b[0;34m\u001b[0m\u001b[0m\n",
      "\u001b[0;31mTypeError\u001b[0m: Object of type 'function' is not JSON serializable"
     ]
    },
    {
     "data": {
      "image/png": "[encoded data removed]",
      "text/plain": [
       "<Figure size 1080x360 with 1 Axes>"
      ]
     },
     "metadata": {},
     "output_type": "display_data"
    }
   ],
   "source": [
    "score_list = evaluation.gridsearch(EnsembleNetwork,dataset_creation.LinearDataset)"
   ]
  },
  {
   "cell_type": "code",
   "execution_count": 31,
   "metadata": {},
   "outputs": [],
   "source": [
    "a = EnsembleNetwork()"
   ]
  },
  {
   "cell_type": "code",
   "execution_count": 36,
   "metadata": {},
   "outputs": [
    {
     "data": {
      "text/plain": [
       "base.EnsembleNetwork"
      ]
     },
     "execution_count": 36,
     "metadata": {},
     "output_type": "execute_result"
    }
   ],
   "source": [
    "type(a)"
   ]
  },
  {
   "cell_type": "code",
   "execution_count": null,
   "metadata": {},
   "outputs": [],
   "source": []
  },
  {
   "cell_type": "code",
   "execution_count": 70,
   "metadata": {},
   "outputs": [
    {
     "data": {
      "text/plain": [
       "<module 'evaluation' from '/Users/thomas/Documents/Master-Thesis/new_version/evaluation.py'>"
      ]
     },
     "execution_count": 70,
     "metadata": {},
     "output_type": "execute_result"
    }
   ],
   "source": [
    "import ensembles\n",
    "importlib.reload(ensembles)\n",
    "importlib.reload(evaluation)"
   ]
  },
  {
   "cell_type": "code",
   "execution_count": 78,
   "metadata": {},
   "outputs": [],
   "source": [
    "trials = 1\n",
    "\n",
    "num_neurons = [[1,1]]#[[2,3,2],[10,10,10],[1,1,1]]\n",
    "seeds = [1]#[50,100,150]\n",
    "num_layers = len(num_neurons[0])\n",
    "learning_rates = [0.1]#[0.1,0.01,0.001]\n",
    "l2 = [True]#,False]\n",
    "activation_schemes = [tf.nn.tanh]#,[tf.nn.leaky_relu]*num_layers, [tf.sigmoid]*num_layers]\n",
    "initialisation_schemes = [tf.keras.initializers.he_normal]#, tf.contrib.layers.xavier_initializer] \n",
    "param_grid = {'num_neurons': num_neurons,\n",
    "              'activation_schemes':activation_schemes,\n",
    "             'initialisation_schemes':initialisation_schemes,\n",
    "             'learning_rates':learning_rates,\n",
    "             'seeds':seeds,\n",
    "             'l2':l2}\n",
    "             "
   ]
  },
  {
   "cell_type": "code",
   "execution_count": null,
   "metadata": {},
   "outputs": [
    {
     "name": "stdout",
     "output_type": "stream",
     "text": [
      "1\n",
      "experiment started at 2018-08-10 12:34:34.684647\n",
      "doing a burn in of 3 epochs\n",
      "doing a burn in of 3 epochs\n"
     ]
    }
   ],
   "source": [
    "score_list = evaluation.gridsearch(ensembles.BootstrapThroughTimeBobStrap,dataset_creation.LinearDataset,**param_grid)"
   ]
  },
  {
   "cell_type": "code",
   "execution_count": null,
   "metadata": {},
   "outputs": [],
   "source": []
  }
 ],
 "metadata": {
  "kernelspec": {
   "display_name": "Python 3",
   "language": "python",
   "name": "python3"
  },
  "language_info": {
   "codemirror_mode": {
    "name": "ipython",
    "version": 3
   },
   "file_extension": ".py",
   "mimetype": "text/x-python",
   "name": "python",
   "nbconvert_exporter": "python",
   "pygments_lexer": "ipython3",
   "version": "3.6.0"
  }
 },
 "nbformat": 4,
 "nbformat_minor": 2
}
